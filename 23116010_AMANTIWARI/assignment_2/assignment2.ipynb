{
 "cells": [
  {
   "cell_type": "markdown",
   "metadata": {},
   "source": [
    "# Q1 part 1"
   ]
  },
  {
   "cell_type": "markdown",
   "metadata": {},
   "source": [
    "$$ p(\\theta) = \\frac{1}{\\sqrt{2\\pi\\sigma_0^2}} \\exp\\left(-\\frac{(\\theta - \\mu_0)^2}{2\\sigma_0^2}\\right)$$\n",
    "For $n$ independent observations $x_1, x_2, \\ldots, x_n$:\n",
    "$$\n",
    "p(x | \\theta) = \\prod_{i=1}^{n} p(x_i | \\theta) = \\prod_{i=1}^{n} \\frac{1}{\\sqrt{2\\pi\\sigma^2}} \\exp\\left(-\\frac{(x_i - \\theta)^2}{2\\sigma^2}\\right)\n",
    "$$\n",
    "$$ p(x | \\theta) = \\left(\\frac{1}{\\sqrt{2\\pi\\sigma^2}}\\right)^n \\exp\\left(-\\frac{1}{2\\sigma^2} \\sum_{i=1}^{n} (x_i - \\theta)^2 \\right)\n",
    "$$\n",
    "By Bayes' theorem:\n",
    "$$\n",
    "p(\\theta | x) \\propto p(x | \\theta) p(\\theta)\n",
    "$$\n",
    "$$\n",
    "p(\\theta | x) \\propto \\exp\\left(-\\frac{1}{2\\sigma^2} \\sum_{i=1}^{n} (x_i - \\theta)^2 \\right) \\exp\\left(-\\frac{(\\theta - \\mu_0)^2}{2\\sigma_0^2}\\right)\n",
    "$$\n",
    "$$\n",
    "p(\\theta | x) \\propto \\exp\\left(-\\frac{1}{2} \\left(\\left(\\frac{n}{\\sigma^2} + \\frac{1}{\\sigma_0^2}\\right) \\theta^2 - 2\\theta \\left(\\frac{\\sum_{i=1}^{n} x_i}{\\sigma^2} + \\frac{\\mu_0}{\\sigma_0^2}\\right) + \\text{c} \\right) \\right)\n",
    "$$\n",
    "Both The distribution for X and $\\theta$ are $\\mathcal{N}$ so the Bayesian update will also be $\\mathcal{N}$\n",
    "$$\n",
    "\\theta | x \\sim \\mathcal{N}(\\mu_n, \\sigma_n^2)\n",
    "$$\n",
    "\n",
    "where:\n",
    "$$\n",
    "\\mu_n = \\frac{\\frac{\\mu_0}{\\sigma_0^2} + \\frac{\\sum_{i=1}^{n} x_i}{\\sigma^2}}{\\frac{1}{\\sigma_0^2} + \\frac{n}{\\sigma^2}}\n",
    "$$\n",
    "$$\n",
    "\\sigma_n^2 = \\left(\\frac{1}{\\sigma_0^2} + \\frac{n}{\\sigma^2}\\right)^{-1}\n",
    "$$\n"
   ]
  },
  {
   "cell_type": "markdown",
   "metadata": {},
   "source": [
    "Substituting $\\mu_0 $=5,$\\sigma_0^2 $  =9 ,$\\sigma^2 $=4,n=1,$x_i$=6\n",
    "$$we\\ get\\ \\ \\mu_n=\\frac{74}{13},\\sigma_n^2 =\\frac{36}{13} $$\n",
    "$$\n",
    "\\theta | x \\sim \\mathcal{N}(\\frac{74}{13}, \\frac{36}{13})\n",
    "$$\n",
    "$$Hence Proved$$"
   ]
  },
  {
   "cell_type": "markdown",
   "metadata": {},
   "source": [
    "# Q1 part 2"
   ]
  },
  {
   "cell_type": "markdown",
   "metadata": {},
   "source": [
    "For Part 2 we have $\\mu_0 $=5,$\\sigma_0^2 $  =$\\sigma^2 $=4  ,$\\sum_{i=1}^{n}=\\bar{x}*n$\n",
    "\n"
   ]
  },
  {
   "cell_type": "markdown",
   "metadata": {},
   "source": [
    "$$\n",
    "\\mu_n = \\frac{\\frac{5}{4} + \\frac{\\bar{x}*n}{4}}{\\frac{1}{4} + \\frac{n}{4}}=\\frac{5+\\bar{x}n}{1+n}\n",
    "$$\n",
    "$$\n",
    "\\sigma_n^2 = \\left(\\frac{1}{4} + \\frac{n}{4}\\right)^{-1}=\\frac{4}{1+n}\n",
    "$$"
   ]
  },
  {
   "cell_type": "markdown",
   "metadata": {},
   "source": [
    "# Q1 part 3"
   ]
  },
  {
   "cell_type": "markdown",
   "metadata": {},
   "source": [
    "As more data is received the value of n increases the dominance of $\\bar{x}$ in the formula of mean which makes the mean tend more towards $\\bar{x}$ \n",
    "Also as n increases, we have a variance decrease which indicates that the distribution is coming close to the mean which is good for the signal interpretation\n",
    "sending the same signal multiple times increases the dominance of $\\bar{x}$ in the formula of mean and variance decreases which is good for signals "
   ]
  },
  {
   "cell_type": "markdown",
   "metadata": {},
   "source": [
    "# Q1 part 4 subpart 1"
   ]
  },
  {
   "cell_type": "markdown",
   "metadata": {},
   "source": [
    "$$\\mu_{prior} =100,\\ \\sigma_{prior}^2=152,\\ \\sigma^2=100,n=1\\ for\\ one\\ sample $$\n",
    "$$\\ \\bar{x}=x=80 $$\n",
    "$$\n",
    "True\\ IQ=\\mu_n = \\frac{\\frac{\\mu_0}{\\sigma_0^2} + \\frac{\\sum_{i=1}^{n} x_i}{\\sigma^2}}{\\frac{1}{\\sigma_0^2} + \\frac{n}{\\sigma^2}}\n",
    "$$\n",
    "On calculating we get True IQ =87.9"
   ]
  },
  {
   "cell_type": "markdown",
   "metadata": {},
   "source": [
    "# Q1 part 4 subpart 2"
   ]
  },
  {
   "cell_type": "markdown",
   "metadata": {},
   "source": [
    "$$\\bar{x}=x=150 $$\n",
    "On calculating we get True IQ =130.15"
   ]
  },
  {
   "cell_type": "markdown",
   "metadata": {},
   "source": [
    "# Q2"
   ]
  },
  {
   "cell_type": "markdown",
   "metadata": {},
   "source": [
    "Likelihood Function\n",
    "$$\n",
    "L(\\mu,\\sigma^2 | X)  = \\prod_{i=1}^{n} \\frac{1}{\\sqrt{2\\pi\\sigma^2}} \\exp\\left(-\\frac{(x_i -\\mu)^2}{2\\sigma^2}\\right)\n",
    "$$\n",
    "Log Likelihood Function\n",
    "$$\n",
    "l(\\mu,\\sigma^2 | X)  = -\\frac{n}{2}log(2\\pi \\sigma^2)-\\frac{1}{2\\sigma^2}\\sum_{i=1}^n(x_i-\\mu)^2\n",
    "$$\n",
    "Upon maximising this function we get \n",
    "$$ \n",
    "\\hat{\\mu}=\\frac{\\sum_{i=1}^nx_i}{n}$$\n",
    "$$\n",
    "\\hat{\\sigma}^2=\\frac{\\sum_{i=1}^n(x_i-\\mu)^2}{n}\n",
    "$$"
   ]
  },
  {
   "cell_type": "code",
   "execution_count": 11,
   "metadata": {},
   "outputs": [
    {
     "name": "stdout",
     "output_type": "stream",
     "text": [
      "mean= 5.0289761835053035 variance= 8.099688319597567\n"
     ]
    }
   ],
   "source": [
    "#Python Implementation\n",
    "import numpy as np\n",
    "import random\n",
    "a=np.random.random(1000)*10\n",
    "mu_cap=np.sum(a)/1000\n",
    "sigma_2=np.sum((a-mu_cap)**2)/1000\n",
    "print(\"mean=\",mu_cap,\"variance=\",sigma_2)"
   ]
  },
  {
   "cell_type": "markdown",
   "metadata": {},
   "source": [
    "# Q3"
   ]
  },
  {
   "cell_type": "code",
   "execution_count": 29,
   "metadata": {},
   "outputs": [],
   "source": [
    "\n",
    "def sig(x):\n",
    "    return 1 / (1 + np.exp(-x))\n",
    "\n",
    "def map(theta, x, mu, sigma, y):\n",
    "    z = np.dot(x, theta)  \n",
    "    log_likelihood_1 = np.sum(y*np.log(sig(z)) + (1-y)*np.log(1-sig(z)))\n",
    "    log_prior = -0.5 * np.sum(((theta-mu)/sigma)**2) - (len(theta)/2) * np.log(2 * math.pi * sigma**2)\n",
    "    return log_likelihood_1 + log_prior\n",
    "\n",
    "def neg_map(theta, x, mu, sigma, y):\n",
    "    return -map(theta, x, mu, sigma, y)"
   ]
  },
  {
   "cell_type": "code",
   "execution_count": 30,
   "metadata": {},
   "outputs": [
    {
     "name": "stdout",
     "output_type": "stream",
     "text": [
      "Estimated Parameters:  [-0.77697479  1.42627835  1.73984789]\n"
     ]
    }
   ],
   "source": [
    "import numpy as np\n",
    "import math\n",
    "from scipy.optimize import minimize\n",
    "\n",
    "N = 500\n",
    "X = np.random.randn(N, 3)\n",
    "t_theta = np.array([-0.75, 1.25, 1.8])\n",
    "\n",
    "y1 = (np.random.rand(N) < sig(np.dot(X, t_theta))).astype(int)\n",
    "\n",
    "mu_prior = np.zeros(X.shape[1])\n",
    "sigma_prior = 16\n",
    "starting_guess_1 = np.zeros(X.shape[1])\n",
    "\n",
    "result = minimize(neg_map, starting_guess_1, args=(X, mu_prior, sigma_prior, y1))\n",
    "estimated_theta = result.x\n",
    "\n",
    "print(\"Estimated Parameters: \", estimated_theta)"
   ]
  },
  {
   "cell_type": "markdown",
   "metadata": {},
   "source": [
    "# Q4"
   ]
  },
  {
   "cell_type": "markdown",
   "metadata": {},
   "source": [
    "# Q5 part 1"
   ]
  },
  {
   "cell_type": "markdown",
   "metadata": {},
   "source": [
    "$$ D_{\\text{KL}}(P \\parallel Q) = \\int_{-\\infty}^{\\infty} p(x) \\log \\frac{p(x)}{q(x)} \\, dx$$"
   ]
  },
  {
   "cell_type": "markdown",
   "metadata": {},
   "source": [
    "$$ D_{\\text{KL}}(P \\parallel Q) = \\int_{-\\infty}^{\\infty} \\frac{1}{\\sqrt{2 \\pi \\sigma_1^2}} \\exp \\left( -\\frac{(x - \\mu_1)^2}{2 \\sigma_1^2} \\right) \\log \\left( \\frac{\\frac{1}{\\sqrt{2 \\pi \\sigma_1^2}} \\exp \\left( -\\frac{(x - \\mu_1)^2}{2 \\sigma_1^2} \\right)}{\\frac{1}{\\sqrt{2 \\pi \\sigma_2^2}} \\exp \\left( -\\frac{(x - \\mu_2)^2}{2 \\sigma_2^2} \\right)} \\right) \\, dx$$"
   ]
  },
  {
   "cell_type": "markdown",
   "metadata": {},
   "source": [
    "$$ D_{\\text{KL}}(P \\parallel Q) = \\int_{-\\infty}^{\\infty} \\frac{1}{\\sqrt{2 \\pi \\sigma_1^2}} \\exp \\left( -\\frac{(x - \\mu_1)^2}{2 \\sigma_1^2} \\right) \\left[ \\log \\frac{\\sigma_2}{\\sigma_1} - \\frac{(x - \\mu_1)^2}{2 \\sigma_1^2} + \\frac{(x - \\mu_2)^2}{2 \\sigma_2^2} \\right] \\, dx$$"
   ]
  },
  {
   "cell_type": "markdown",
   "metadata": {},
   "source": [
    "$$Simplifying\\ we\\ get:$$\n",
    "$$D_{\\text{KL}}(P \\parallel Q) = \\log \\frac{\\sigma_2}{\\sigma_1} + \\frac{\\sigma_1^2 + (\\mu_1 - \\mu_2)^2}{2 \\sigma_2^2} - \\frac{1}{2}\n",
    "$$"
   ]
  },
  {
   "cell_type": "markdown",
   "metadata": {},
   "source": [
    "# Q5 part 2"
   ]
  },
  {
   "cell_type": "code",
   "execution_count": 31,
   "metadata": {},
   "outputs": [],
   "source": [
    "import pandas as pd\n",
    "import math\n",
    "file_path = 'data_KL.csv'\n",
    "data = pd.read_csv(file_path)"
   ]
  },
  {
   "cell_type": "code",
   "execution_count": 32,
   "metadata": {},
   "outputs": [
    {
     "data": {
      "text/html": [
       "<div>\n",
       "<style scoped>\n",
       "    .dataframe tbody tr th:only-of-type {\n",
       "        vertical-align: middle;\n",
       "    }\n",
       "\n",
       "    .dataframe tbody tr th {\n",
       "        vertical-align: top;\n",
       "    }\n",
       "\n",
       "    .dataframe thead th {\n",
       "        text-align: right;\n",
       "    }\n",
       "</style>\n",
       "<table border=\"1\" class=\"dataframe\">\n",
       "  <thead>\n",
       "    <tr style=\"text-align: right;\">\n",
       "      <th></th>\n",
       "      <th>Unnamed: 0</th>\n",
       "      <th>P</th>\n",
       "      <th>Q</th>\n",
       "    </tr>\n",
       "  </thead>\n",
       "  <tbody>\n",
       "    <tr>\n",
       "      <th>0</th>\n",
       "      <td>0</td>\n",
       "      <td>7.888609e-31</td>\n",
       "      <td>1.486720e-07</td>\n",
       "    </tr>\n",
       "    <tr>\n",
       "      <th>1</th>\n",
       "      <td>1</td>\n",
       "      <td>7.888609e-29</td>\n",
       "      <td>2.438962e-07</td>\n",
       "    </tr>\n",
       "    <tr>\n",
       "      <th>2</th>\n",
       "      <td>2</td>\n",
       "      <td>3.904861e-27</td>\n",
       "      <td>3.961301e-07</td>\n",
       "    </tr>\n",
       "    <tr>\n",
       "      <th>3</th>\n",
       "      <td>3</td>\n",
       "      <td>1.275588e-25</td>\n",
       "      <td>6.369829e-07</td>\n",
       "    </tr>\n",
       "    <tr>\n",
       "      <th>4</th>\n",
       "      <td>4</td>\n",
       "      <td>3.093301e-24</td>\n",
       "      <td>1.014086e-06</td>\n",
       "    </tr>\n",
       "    <tr>\n",
       "      <th>...</th>\n",
       "      <td>...</td>\n",
       "      <td>...</td>\n",
       "      <td>...</td>\n",
       "    </tr>\n",
       "    <tr>\n",
       "      <th>95</th>\n",
       "      <td>95</td>\n",
       "      <td>5.939138e-23</td>\n",
       "      <td>1.598375e-06</td>\n",
       "    </tr>\n",
       "    <tr>\n",
       "      <th>96</th>\n",
       "      <td>96</td>\n",
       "      <td>3.093301e-24</td>\n",
       "      <td>1.014086e-06</td>\n",
       "    </tr>\n",
       "    <tr>\n",
       "      <th>97</th>\n",
       "      <td>97</td>\n",
       "      <td>1.275588e-25</td>\n",
       "      <td>6.369829e-07</td>\n",
       "    </tr>\n",
       "    <tr>\n",
       "      <th>98</th>\n",
       "      <td>98</td>\n",
       "      <td>3.904861e-27</td>\n",
       "      <td>3.961301e-07</td>\n",
       "    </tr>\n",
       "    <tr>\n",
       "      <th>99</th>\n",
       "      <td>99</td>\n",
       "      <td>7.888609e-29</td>\n",
       "      <td>2.438962e-07</td>\n",
       "    </tr>\n",
       "  </tbody>\n",
       "</table>\n",
       "<p>100 rows × 3 columns</p>\n",
       "</div>"
      ],
      "text/plain": [
       "    Unnamed: 0             P             Q\n",
       "0            0  7.888609e-31  1.486720e-07\n",
       "1            1  7.888609e-29  2.438962e-07\n",
       "2            2  3.904861e-27  3.961301e-07\n",
       "3            3  1.275588e-25  6.369829e-07\n",
       "4            4  3.093301e-24  1.014086e-06\n",
       "..         ...           ...           ...\n",
       "95          95  5.939138e-23  1.598375e-06\n",
       "96          96  3.093301e-24  1.014086e-06\n",
       "97          97  1.275588e-25  6.369829e-07\n",
       "98          98  3.904861e-27  3.961301e-07\n",
       "99          99  7.888609e-29  2.438962e-07\n",
       "\n",
       "[100 rows x 3 columns]"
      ]
     },
     "execution_count": 32,
     "metadata": {},
     "output_type": "execute_result"
    }
   ],
   "source": [
    "data"
   ]
  },
  {
   "cell_type": "code",
   "execution_count": 33,
   "metadata": {},
   "outputs": [],
   "source": [
    "P = data['P'].values\n",
    "Q = data['Q'].values"
   ]
  },
  {
   "cell_type": "code",
   "execution_count": 34,
   "metadata": {},
   "outputs": [],
   "source": [
    "def normalize(distribution):\n",
    "    total = sum(distribution)\n",
    "    return [x / total for x in distribution]\n",
    "\n",
    "P = normalize(P)\n",
    "Q = normalize(Q)"
   ]
  },
  {
   "cell_type": "code",
   "execution_count": 35,
   "metadata": {},
   "outputs": [
    {
     "name": "stdout",
     "output_type": "stream",
     "text": [
      "KL Divergence (P || Q): 0.31815510041414474\n",
      "KL Divergence (Q || P): 0.8319068251266678\n"
     ]
    }
   ],
   "source": [
    "def kl_divergence(P, Q):\n",
    "    return sum(p * math.log(p / q) for p, q in zip(P, Q) if p != 0 and q != 0)\n",
    "\n",
    "kl_divpq = kl_divergence(P, Q)\n",
    "kl_divqp = kl_divergence(Q, P)\n",
    "\n",
    "print(\"KL Divergence (P || Q):\", kl_divpq)\n",
    "print(\"KL Divergence (Q || P):\", kl_divqp)\n"
   ]
  },
  {
   "cell_type": "markdown",
   "metadata": {},
   "source": [
    "# Q5 part 3"
   ]
  },
  {
   "cell_type": "markdown",
   "metadata": {},
   "source": [
    "\n",
    "The Kullback-Leibler (KL) divergence is a measure of how one probability distribution diverges from a second, expected probability distribution. It is not symmetric, meaning \n",
    "$D_{KL}(P||Q)\\neq D_{KL}(Q||P) $\n",
    "Thus, it is not a true \"distance\" metric in the mathematical sense (e.g., it does not satisfy the triangle inequality).\n",
    "\n",
    "KL Divergence represents the amount of information lost when \n",
    "Q is used to approximate \n",
    "P. In other words, it quantifies the inefficiency of assuming that the distribution \n",
    "Q is the true distribution when the actual distribution is \n",
    "P."
   ]
  },
  {
   "cell_type": "markdown",
   "metadata": {},
   "source": [
    "# Q6 part 1"
   ]
  },
  {
   "cell_type": "code",
   "execution_count": 36,
   "metadata": {},
   "outputs": [],
   "source": [
    "df =pd.read_csv(\"data_open.csv\",names=['x','y'])"
   ]
  },
  {
   "cell_type": "code",
   "execution_count": 37,
   "metadata": {},
   "outputs": [
    {
     "data": {
      "text/html": [
       "<div>\n",
       "<style scoped>\n",
       "    .dataframe tbody tr th:only-of-type {\n",
       "        vertical-align: middle;\n",
       "    }\n",
       "\n",
       "    .dataframe tbody tr th {\n",
       "        vertical-align: top;\n",
       "    }\n",
       "\n",
       "    .dataframe thead th {\n",
       "        text-align: right;\n",
       "    }\n",
       "</style>\n",
       "<table border=\"1\" class=\"dataframe\">\n",
       "  <thead>\n",
       "    <tr style=\"text-align: right;\">\n",
       "      <th></th>\n",
       "      <th>x</th>\n",
       "      <th>y</th>\n",
       "    </tr>\n",
       "  </thead>\n",
       "  <tbody>\n",
       "    <tr>\n",
       "      <th>0</th>\n",
       "      <td>NaN</td>\n",
       "      <td>data</td>\n",
       "    </tr>\n",
       "    <tr>\n",
       "      <th>1</th>\n",
       "      <td>0.0</td>\n",
       "      <td>5.242409064737171</td>\n",
       "    </tr>\n",
       "    <tr>\n",
       "      <th>2</th>\n",
       "      <td>1.0</td>\n",
       "      <td>1.5677360608794515</td>\n",
       "    </tr>\n",
       "    <tr>\n",
       "      <th>3</th>\n",
       "      <td>2.0</td>\n",
       "      <td>-5.809161571554837</td>\n",
       "    </tr>\n",
       "    <tr>\n",
       "      <th>4</th>\n",
       "      <td>3.0</td>\n",
       "      <td>-3.2231270533908565</td>\n",
       "    </tr>\n",
       "    <tr>\n",
       "      <th>...</th>\n",
       "      <td>...</td>\n",
       "      <td>...</td>\n",
       "    </tr>\n",
       "    <tr>\n",
       "      <th>7996</th>\n",
       "      <td>7995.0</td>\n",
       "      <td>10.475467099026911</td>\n",
       "    </tr>\n",
       "    <tr>\n",
       "      <th>7997</th>\n",
       "      <td>7996.0</td>\n",
       "      <td>5.479538126822994</td>\n",
       "    </tr>\n",
       "    <tr>\n",
       "      <th>7998</th>\n",
       "      <td>7997.0</td>\n",
       "      <td>4.3477536134189165</td>\n",
       "    </tr>\n",
       "    <tr>\n",
       "      <th>7999</th>\n",
       "      <td>7998.0</td>\n",
       "      <td>2.279800010468329</td>\n",
       "    </tr>\n",
       "    <tr>\n",
       "      <th>8000</th>\n",
       "      <td>7999.0</td>\n",
       "      <td>2.4603698288491076</td>\n",
       "    </tr>\n",
       "  </tbody>\n",
       "</table>\n",
       "<p>8001 rows × 2 columns</p>\n",
       "</div>"
      ],
      "text/plain": [
       "           x                    y\n",
       "0        NaN                 data\n",
       "1        0.0    5.242409064737171\n",
       "2        1.0   1.5677360608794515\n",
       "3        2.0   -5.809161571554837\n",
       "4        3.0  -3.2231270533908565\n",
       "...      ...                  ...\n",
       "7996  7995.0   10.475467099026911\n",
       "7997  7996.0    5.479538126822994\n",
       "7998  7997.0   4.3477536134189165\n",
       "7999  7998.0    2.279800010468329\n",
       "8000  7999.0   2.4603698288491076\n",
       "\n",
       "[8001 rows x 2 columns]"
      ]
     },
     "execution_count": 37,
     "metadata": {},
     "output_type": "execute_result"
    }
   ],
   "source": [
    "df"
   ]
  },
  {
   "cell_type": "code",
   "execution_count": 38,
   "metadata": {},
   "outputs": [],
   "source": [
    "x=df[\"x\"][1:].to_numpy().astype(float)\n",
    "y=df[\"y\"][1:].to_numpy().astype(float)\n"
   ]
  },
  {
   "cell_type": "code",
   "execution_count": 39,
   "metadata": {},
   "outputs": [
    {
     "data": {
      "text/plain": [
       "[<matplotlib.lines.Line2D at 0x2c6aec21c50>]"
      ]
     },
     "execution_count": 39,
     "metadata": {},
     "output_type": "execute_result"
    },
    {
     "data": {
      "image/png": "[encoded data removed]",
      "text/plain": [
       "<Figure size 640x480 with 1 Axes>"
      ]
     },
     "metadata": {},
     "output_type": "display_data"
    }
   ],
   "source": [
    "import matplotlib.pyplot as plt\n",
    "plt.plot(x,y)"
   ]
  },
  {
   "cell_type": "code",
   "execution_count": null,
   "metadata": {},
   "outputs": [],
   "source": []
  },
  {
   "cell_type": "markdown",
   "metadata": {},
   "source": [
    "# Q6 part 2"
   ]
  },
  {
   "cell_type": "code",
   "execution_count": null,
   "metadata": {},
   "outputs": [],
   "source": []
  }
 ],
 "metadata": {
  "kernelspec": {
   "display_name": "Python 3 (ipykernel)",
   "language": "python",
   "name": "python3"
  },
  "language_info": {
   "codemirror_mode": {
    "name": "ipython",
    "version": 3
   },
   "file_extension": ".py",
   "mimetype": "text/x-python",
   "name": "python",
   "nbconvert_exporter": "python",
   "pygments_lexer": "ipython3",
   "version": "3.11.7"
  }
 },
 "nbformat": 4,
 "nbformat_minor": 4
}
