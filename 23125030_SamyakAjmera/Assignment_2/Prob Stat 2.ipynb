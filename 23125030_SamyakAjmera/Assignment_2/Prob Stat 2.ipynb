{
 "cells": [
  {
   "cell_type": "markdown",
   "id": "aaed1fa4",
   "metadata": {},
   "source": [
    "# Q1)"
   ]
  },
  {
   "cell_type": "markdown",
   "id": "efa3abeb",
   "metadata": {},
   "source": [
    "### 1.1"
   ]
  },
  {
   "cell_type": "markdown",
   "id": "aad8f73c",
   "metadata": {},
   "source": [
    "$$ We \\ need \\ to \\ find \\ the \\ posterior \\ distribution \\ ( p(\\theta|x) ) \\ given \\ that \\ the \\ received \\ value \\ ( x = 6)$$\n",
    "\n",
    " $$ \\textbf{Likelihood} $$\n",
    "\n",
    "$$ The \\ likelihood \\ function \\ is \\\n",
    "  p(x|\\theta) = \\frac{1}{\\sqrt{2\\pi \\cdot 4}} \\exp\\left(-\\frac{(x - \\theta)^2}{8}\\right)  $$\n",
    "  $$ Since \\ ( x = 6 ) \\ :\n",
    "  p(6|\\theta) = \\frac{1}{\\sqrt{2\\pi \\cdot 4}} \\exp\\left(-\\frac{(6 - \\theta)^2}{8}\\right) $$\n",
    "\n",
    " $$ \\textbf{Prior} $$\n",
    "\n",
    " $$ The \\ prior \\ distribution \\ is \\\n",
    "p(\\theta) = \\frac{1}{\\sqrt{2\\pi \\cdot 9}} \\exp\\left(-\\frac{(\\theta - 5)^2}{18}\\right) $$\n",
    "\n",
    "$$ \\textbf{Posterior} $$\n",
    "\n",
    "$$ The \\ posterior \\ distribution \\ ( p(\\theta|6) )  \\ is \\ proportional \\ to \\\n",
    "p(\\theta|6) \\propto \\left(\\frac{1}{\\sqrt{2\\pi \\cdot 4}} \\exp\\left(-\\frac{(6 - \\theta)^2}{8}\\right)\\right) \\cdot \\left(\\frac{1}{\\sqrt{2\\pi \\cdot 9}} \\exp\\left(-\\frac{(\\theta - 5)^2}{18}\\right)\\right) $$\n",
    "\n",
    " $$ Combining \\ the \\ exponents: \\\n",
    "p(\\theta|6) \\propto \\exp\\left(-\\frac{(6 - \\theta)^2}{8} - \\frac{(\\theta - 5)^2}{18}\\right) $$\n",
    "\n",
    "$$ On \\ simplifying \\ the \\ exponent \\ we \\ get: \\\\\n",
    "-\\frac{13}{72}\\theta^2 + \\frac{148}{72}\\theta - \\frac{424}{72} $$\n",
    "\n",
    " $$ \\textbf{Completing the Square} \\\\\n",
    "-\\frac{13}{72}\\left(\\theta^2 - \\frac{148}{13}\\theta + \\left(\\frac{74}{13}\\right)^2 - \\left(\\frac{74}{13}\\right)^2 + \\frac{424}{13}\\right) $$\n",
    "\n",
    " $$ This \\ simplifies \\ to: \\\n",
    "-\\frac{13}{72}\\left(\\theta - \\frac{74}{13}\\right)^2 + \\text{constant} $$\n",
    "\n",
    "$$ e^{\\frac{(\\theta - 74/13)^2}{2*36/13}} \\propto N(\\frac{74}{13},\\frac{36}{13}) $$\n",
    "\n",
    "$$ \\\\ Hence \\ proved $$"
   ]
  },
  {
   "cell_type": "markdown",
   "id": "89d2b49d",
   "metadata": {},
   "source": [
    " ### 1.2"
   ]
  },
  {
   "cell_type": "markdown",
   "id": "c509f1e2",
   "metadata": {},
   "source": [
    "$$ Given \\ the \\ formulas \\ for \\ the \\ posterior \\  mean \\ and \\ variance: \\\\\n",
    "\\mu_{\\text{post}} = \\frac{\\sigma^2 \\mu_{\\text{prior}} + n \\sigma_{\\text{prior}}^2 \\mu}{n \\sigma_{\\text{prior}}^2 + \\sigma^2} \n",
    "\\\\\n",
    "\\sigma_{\\text{post}}^2 = \\frac{\\sigma^2 \\sigma_{\\text{prior}}^2}{n \\sigma_{\\text{prior}}^2 + \\sigma^2}\n",
    "$$\n",
    "$$ \\\\\\ where: \\\\\n",
    "\\mu_{\\text{prior}} = 5 \\,, \\quad \\sigma_{\\text{prior}}^2 = 9\n",
    "\\\\\n",
    "\\mu = \\bar{x}, \\quad \\sigma^2 = 4 $$\n",
    "\n",
    "$$ \\\\ Substituting \\ these \\ values \\ into \\ the \\ formulas, \\ we \\ get: \\\\\n",
    "\\mu_{\\text{post}} = \\frac{4 \\cdot 5 + 9 \\cdot n \\cdot \\bar{x}}{9n + 4} = \\frac{20 + 9n\\bar{x}}{9n +4}\n",
    "\\\\\n",
    "\\sigma_{\\text{post}}^2 = \\frac{4 \\cdot 9}{9n + 4} = \\frac{36}{9n + 4} $$"
   ]
  },
  {
   "cell_type": "markdown",
   "id": "f27fc787",
   "metadata": {},
   "source": [
    "### 1.3"
   ]
  },
  {
   "cell_type": "markdown",
   "id": "45ecaf96",
   "metadata": {},
   "source": [
    "$$ \\textbf{ 1. Posterior Mean} \\ ( \\mu_{\\text{post}}): \\\\ The \\ posterior \\ mean \\ is \\ a \\ weighted \\ average \\ of \\ the \\ prior \\ mean \\ ( \\mu_{\\text{prior}} ) \\ and \\ the \\ sample \\ mean \\ of \\ the \\ observed \\ data \\ ( \\bar{x} ). \\\\               As \\ the \\ number \\ of \\ data \\ points \\ ( n ) \\ increases, \\ the \\ weight \\ on \\ the \\ sample \\ mean \\ ( \\bar{x} ) \\ increases, \\ making \\ the \\ posterior \\ mean \\ more \\ influenced \\ by \\ the \\ observed \\ data \\ and \\ less \\ by \\ the \\ prior. $$\n",
    "\n",
    "$$ \\textbf{2. Posterior Variance (\\( \\sigma_{\\text{post}}^2 \\))}: \\\\ The \\ posterior \\ variance \\ decreases \\ as \\ more \\ data \\ points \\ are \\ received. \\\\ It \\ reflects \\ increased \\ confidence \\ in \\ the \\ estimate \\ of \\  \\theta \\ as \\ more \\ data \\ reduces \\ uncertainty. \\ $$\n",
    "\n",
    " $$ \\textbf{Benefits of Sending the Same Signal Multiple Times} \\\\\n",
    "  1. \\ Increased \\ Accuracy:\\  Multiple \\ observations \\ reduce \\ the \\ impact \\ of \\ noise, \\ leading \\ to \\ a \\ more \\ accurate \\ estimate \\ of \\ the \\ true \\ value \\ ( \\theta). \\\\ \n",
    "  2. \\ Reduced \\ Uncertainty: \\ The \\ posterior \\ variance \\ decreases \\ with \\ more \\ observations, \\ indicating \\ increased \\ confidence \\ in \\ the \\ estimate. \\\\\n",
    "\\textbf{Interpretation of Update Equations} \\\\\n",
    "\\textbf{Posterior Mean}: \\ With \\ more \\ data, \\ the \\ posterior \\ mean \\ relies \\ more \\ on \\ the \\ sample \\ mean \\ (\\bar{x}) \\ and \\ less \\ on \\ the \\ prior \\ mean \\  \\mu_{\\text{prior}}. \\\\\n",
    "  \\textbf{Posterior Variance}: \\ Decreases \\ as \\ the \\ number \\ of \\ observations \\ increases, \\ showing \\ increased \\ precision \\ in \\ estimating \\ \\theta. \\\\\n",
    "In \\ summary,sending \\ the \\ same \\ signal \\ multiple \\ times \\ helps \\ refine \\ the \\ estimate \\ of \\  \\theta  \\ by \\ reducing \\ noise \\ effects \\ and \\ increasing \\ the \\ precision \\ and \\ accuracy \\ of \\ the \\ estimate. $$\n"
   ]
  },
  {
   "cell_type": "markdown",
   "id": "7d600860",
   "metadata": {},
   "source": [
    "### 1.4"
   ]
  },
  {
   "cell_type": "markdown",
   "id": "765bf1f7",
   "metadata": {},
   "source": [
    "$$ Given \\ the \\ formula \\ for \\ the \\ posterior \\  mean: \\\\\n",
    "\\mu_{\\text{post}} = \\frac{\\sigma^2 \\mu_{\\text{prior}} + n \\sigma_{\\text{prior}}^2 \\mu}{n \\sigma_{\\text{prior}}^2 + \\sigma^2} \n",
    "$$\n",
    "$$ \\\\\\ we \\ have: \\\\\n",
    "\\mu_{\\text{prior}} = 100 \\,, \\quad \\sigma_{\\text{prior}}^2 = 152\n",
    "\\\\\n",
    "n = 1, \\quad \\sigma^2 = 102 $$"
   ]
  },
  {
   "cell_type": "markdown",
   "id": "f3346b61",
   "metadata": {},
   "source": [
    "#### 1.4.1"
   ]
  },
  {
   "cell_type": "markdown",
   "id": "374d57b5",
   "metadata": {},
   "source": [
    "$$ Here \\ we \\ take \\ \\mu=80, \\ Hence: \\\\\n",
    " \\mu_{\\text{post}} = \\frac{ 102 \\cdot 100 + 1 \\cdot 152 \\cdot 80}{1 \\cdot 152 + 102} = 88.03 $$\n"
   ]
  },
  {
   "cell_type": "markdown",
   "id": "e1c0d876",
   "metadata": {},
   "source": [
    "#### 1.4.2"
   ]
  },
  {
   "cell_type": "markdown",
   "id": "8033f639",
   "metadata": {},
   "source": [
    "$$ Here \\ we \\ take \\ \\mu=150, \\ Hence: \\\\\n",
    " \\mu_{\\text{post}} = \\frac{ 102 \\cdot 100 + 1 \\cdot 152 \\cdot 150}{1 \\cdot 152 + 102} = 129.92 $$"
   ]
  },
  {
   "cell_type": "markdown",
   "id": "e1ccec08",
   "metadata": {},
   "source": [
    "# Q2)"
   ]
  },
  {
   "cell_type": "markdown",
   "id": "830eb8c6",
   "metadata": {},
   "source": [
    "$$\n",
    "\\textbf{Maximum Likelihood Estimation for Gaussian Distribution} \\\\\n",
    "Given \\ a \\ dataset \\ (X = \\{x_1, x_2, \\ldots, x_n\\}) of \\  n  \\ observations \\ from \\  N (\\mu, \\sigma^2 ), \\ the \\ likelihood \\ function \\ is: \\\\\n",
    " L(\\mu, \\sigma^2; X) = \\prod_{i=1}^{n} \\frac{1}{\\sqrt{2\\pi\\sigma^2}} \\exp\\left(-\\frac{(x_i - \\mu)^2}{2\\sigma^2}\\right)  \\\\\n",
    "The \\ log-likelihood \\ function \\ is: \\\\\n",
    " l = \\log L(\\mu, \\sigma^2; X) = -\\frac{n}{2} \\log(2\\pi) - \\frac{n}{2} \\log(\\sigma^2) - \\frac{1}{2\\sigma^2} \\sum_{i=1}^{n} (x_i - \\mu)^2  \\\\ \n",
    "Taking \\ partial \\ derivatives \\ with \\ respect \\ to \\ \\mu and \\ \\sigma^2 \\ and \\ setting \\ them \\ to \\ zero \\ gives \\ us \\ the \\ MLEs: \\\\\n",
    " \\textbf{For \\(\\mu\\)}: \\\\\n",
    "    \\frac{\\partial \\log L}{\\partial \\mu} = \\frac{1}{\\sigma^2} \\sum_{i=1}^{n} (x_i - \\mu) = 0 \\implies \\hat{\\mu} = \\frac{1}{n} \\sum_{i=1}^{n} x_i \\\\\n",
    " \\textbf{For \\(\\sigma^2\\)}: \\\\\n",
    "    \\frac{\\partial \\log L}{\\partial \\sigma^2} = -\\frac{n}{2\\sigma^2} + \\frac{1}{2\\sigma^4} \\sum_{i=1}^{n} (x_i - \\mu)^2 = 0 \\implies \\hat{\\sigma}^2 = \\frac{1}{n} \\sum_{i=1}^{n} (x_i - \\hat{\\mu})^2 \\\\\n",
    "$$"
   ]
  },
  {
   "cell_type": "code",
   "execution_count": 6,
   "id": "89dc8dd4",
   "metadata": {},
   "outputs": [
    {
     "name": "stdout",
     "output_type": "stream",
     "text": [
      "Estimated mean (mu): 0.01933205582232549\n",
      "Estimated variance (sigma^2): 0.9579049897315173\n",
      "True mean = 0 and true variance = 1\n"
     ]
    }
   ],
   "source": [
    "import numpy as np\n",
    "\n",
    "np.random.seed(42)\n",
    "true_mu = 0\n",
    "true_sigma = 1\n",
    "data = np.random.normal(loc=true_mu, scale=true_sigma, size=1000)\n",
    "\n",
    "mu_mle = np.mean(data)\n",
    "\n",
    "sigma2_mle = np.var(data, ddof=0)\n",
    "\n",
    "print(f\"Estimated mean (mu): {mu_mle}\")\n",
    "print(f\"Estimated variance (sigma^2): {sigma2_mle}\")\n",
    "print (\"True mean = 0 and true variance = 1\")\n"
   ]
  },
  {
   "cell_type": "markdown",
   "id": "0205ea55",
   "metadata": {},
   "source": [
    "# Q3)"
   ]
  },
  {
   "cell_type": "code",
   "execution_count": 21,
   "id": "e5f89f2f",
   "metadata": {},
   "outputs": [
    {
     "name": "stdout",
     "output_type": "stream",
     "text": [
      "MAP estimate of the weights: [-0.22733567 -0.22409786  0.27005226]\n"
     ]
    }
   ],
   "source": [
    "import numpy as np\n",
    "from scipy.optimize import minimize\n",
    "from scipy.special import expit \n",
    "\n",
    "def log_likelihood(w, X, y):\n",
    "    z = np.dot(X,w)\n",
    "    return np.sum(y * np.log(expit(z)) + (1 - y) * np.log(1 - expit(z)))\n",
    "\n",
    "def log_prior(w, tau):\n",
    "    return -0.5 * np.sum(w**2) / tau**2\n",
    "\n",
    "def log_posterior(w, X, y, tau):\n",
    "    return log_likelihood(w, X, y) + log_prior(w, tau)\n",
    "\n",
    "def neg_log_posterior(w, X, y, tau):\n",
    "    return -log_posterior(w, X, y, tau)\n",
    "\n",
    "\n",
    "np.random.seed(0)\n",
    "X = np.random.randn(100, 3)\n",
    "true_w = np.array([1.0, -2.0, 0.5])\n",
    "y = (np.random.rand(100) < expit(np.dot(X,true_w)).astype(int))\n",
    "\n",
    "\n",
    "initial_w = np.zeros(X.shape[1])\n",
    "tau = 1.0  \n",
    "\n",
    "result = minimize(neg_log_posterior, initial_w, args=(X, y, tau))\n",
    "\n",
    "map_w = result.x\n",
    "print(\"MAP estimate of the weights:\", map_w)\n"
   ]
  },
  {
   "cell_type": "markdown",
   "id": "e57fd705",
   "metadata": {},
   "source": [
    "# Q4)"
   ]
  },
  {
   "cell_type": "markdown",
   "id": "1160d8dd",
   "metadata": {},
   "source": [
    "### 4.1"
   ]
  },
  {
   "cell_type": "markdown",
   "id": "3c217e40",
   "metadata": {},
   "source": [
    "A constant function f(𝑥) = c assigns the same value c to every input x.\n",
    "\n",
    "VC Dimension: 0\n",
    "\n",
    "Reasoning: A constant function cannot shatter any set of points with different labels because it can only classify all points as one class. Therefore, the largest set of points it can shatter is the empty set."
   ]
  },
  {
   "cell_type": "markdown",
   "id": "6d6008c5",
   "metadata": {},
   "source": [
    "### 4.2"
   ]
  },
  {
   "cell_type": "markdown",
   "id": "b67b4fcb",
   "metadata": {},
   "source": [
    "A linear function in d dimensions is of the form f(x)=w⋅x+b \n",
    "\n",
    "VC Dimension: d+1\n",
    "\n",
    "Reasoning: A set of d+1 points in general position in d-dimensional space can be shattered by a linear classifier. This is because there are d+1 degrees of freedom. "
   ]
  },
  {
   "cell_type": "markdown",
   "id": "981b5ff8",
   "metadata": {},
   "source": [
    "### 4.3"
   ]
  },
  {
   "cell_type": "markdown",
   "id": "fe8cfd04",
   "metadata": {},
   "source": [
    "An axis-aligned rectangle in 2D can be defined by the inequalities: a≤x≤b and  c≤y≤d.\n",
    "\n",
    "VC Dimension: 4\n",
    "\n",
    "Reasoning: Consider four points in 2D arranged as the vertices of a rectangle. An axis-aligned rectangle can shatter this set because it can cover any subset of the four points by appropriately setting its boundaries. "
   ]
  },
  {
   "cell_type": "markdown",
   "id": "9b94ca16",
   "metadata": {},
   "source": [
    "### 4.4"
   ]
  },
  {
   "cell_type": "markdown",
   "id": "f5f21c1b",
   "metadata": {},
   "source": [
    "An interval on the real line can be defined by the inequalities: a≤x≤b.\n",
    "\n",
    "VC Dimension: 2\n",
    "\n",
    "Reasoning: Consider two points on the real line. An interval can shatter this set because it can cover any subset of the two points by appropriately setting its boundaries."
   ]
  },
  {
   "cell_type": "markdown",
   "id": "7c4422ab",
   "metadata": {},
   "source": [
    "# Q5)"
   ]
  },
  {
   "cell_type": "markdown",
   "id": "ff595ce7",
   "metadata": {},
   "source": [
    "### 5.1"
   ]
  },
  {
   "cell_type": "markdown",
   "id": "ac41fc9e",
   "metadata": {},
   "source": [
    "The Kullback-Leibler (KL) divergence between two Gaussian distributions is a measure of how one probability distribution diverges from a second, expected probability distribution. For two Gaussian distributions, the KL divergence can be computed using the following formula:\n",
    "\n",
    "$ D_{KL}(p||q) = \\int_{-\\infty}^{\\infty} p(x) \\log\\left(\\frac{p(x)}{q(x)}\\right) \\, dx  \\\\\n",
    "where \\ p(x) \\ is \\ the \\ pdf \\ of \\ N( \\mu_1, \\sigma_1^2) \\ and \\ q(x) \\ is \\ the \\ pdf \\ of \\  N( \\mu_2, \\sigma_2^2) $\n",
    "\n",
    "$ The \\ ratio \\frac{p(x)}{q(x)}: \\\\ \\frac{p(x)}{q(x)} = \\frac{\\frac{1}{\\sqrt{2\\pi\\sigma_1^2}} \\exp\\left(-\\frac{(x - \\mu_1)^2}{2\\sigma_1^2}\\right)}{\\frac{1}{\\sqrt{2\\pi\\sigma_2^2}} \\exp\\left(-\\frac{(x - \\mu_2)^2}{2\\sigma_2^2}\\right)} \\\\ \n",
    "\\frac{p(x)}{q(x)} = \\frac{\\sigma_2} {\\sigma_1} \\exp\\left( \\frac{(x - \\mu_2)^2}{2\\sigma_2^2} - \\frac{(x - \\mu_1)^2}{2\\sigma_1^2} \\right)\n",
    "$\n",
    "$ Hence \\\\ \n",
    "D_{KL}(p||q) = \\int_{-\\infty}^{\\infty} p(x) \\left( \\log(\\frac{\\sigma_2}{\\sigma_1}) - \\frac{(x - \\mu_1)^2}{2\\sigma_1^2} +  \\frac{(x - \\mu_2)^2}{2\\sigma_2^2}\\right) \\, dx = \\log(\\frac{\\sigma_2}{\\sigma_1})\\int_{-\\infty}^{\\infty} p(x) \\, dx - \\frac{1}{2\\sigma_1^2} \\int_{-\\infty}^{\\infty} p(x)(x-\\mu_1)^2 \\, dx + \\frac{1}{2\\sigma_2^2} \\int_{-\\infty}^{\\infty} p(x)(x -\\mu_2)^2 \\, dx\\\\ $\n",
    "$ \\\\ \\int_{-\\infty}^{\\infty} p(x) \\, dx = 1 \\\\ \\int_{-\\infty}^{\\infty} p(x)(x-\\mu_1)^2 \\, dx = \\sigma_1^2 \\\\ \\int_{-\\infty}^{\\infty} p(x)(x -\\mu_2)^2 \\, dx = \\sigma_1^2 + (\\mu_1 -\\mu_2)^2 $\n",
    "$ Substituting \\ these \\ values \\ we \\ get: \\\\\n",
    " D_{KL}(p||q) = \\log(\\frac{\\sigma_2}{\\sigma_1}) - \\frac{1}{2}+\\frac{1}{2\\sigma_2^2}[\\sigma_1^2+(\\mu_1-\\mu_2)^2]$"
   ]
  },
  {
   "cell_type": "markdown",
   "id": "cede67c6",
   "metadata": {},
   "source": [
    "### 5.2"
   ]
  },
  {
   "cell_type": "code",
   "execution_count": 11,
   "id": "1510a949",
   "metadata": {},
   "outputs": [
    {
     "data": {
      "text/html": [
       "<div>\n",
       "<style scoped>\n",
       "    .dataframe tbody tr th:only-of-type {\n",
       "        vertical-align: middle;\n",
       "    }\n",
       "\n",
       "    .dataframe tbody tr th {\n",
       "        vertical-align: top;\n",
       "    }\n",
       "\n",
       "    .dataframe thead th {\n",
       "        text-align: right;\n",
       "    }\n",
       "</style>\n",
       "<table border=\"1\" class=\"dataframe\">\n",
       "  <thead>\n",
       "    <tr style=\"text-align: right;\">\n",
       "      <th></th>\n",
       "      <th>P</th>\n",
       "      <th>Q</th>\n",
       "    </tr>\n",
       "  </thead>\n",
       "  <tbody>\n",
       "    <tr>\n",
       "      <th>0</th>\n",
       "      <td>7.888609e-31</td>\n",
       "      <td>1.486720e-07</td>\n",
       "    </tr>\n",
       "    <tr>\n",
       "      <th>1</th>\n",
       "      <td>7.888609e-29</td>\n",
       "      <td>2.438962e-07</td>\n",
       "    </tr>\n",
       "    <tr>\n",
       "      <th>2</th>\n",
       "      <td>3.904861e-27</td>\n",
       "      <td>3.961301e-07</td>\n",
       "    </tr>\n",
       "    <tr>\n",
       "      <th>3</th>\n",
       "      <td>1.275588e-25</td>\n",
       "      <td>6.369829e-07</td>\n",
       "    </tr>\n",
       "    <tr>\n",
       "      <th>4</th>\n",
       "      <td>3.093301e-24</td>\n",
       "      <td>1.014086e-06</td>\n",
       "    </tr>\n",
       "  </tbody>\n",
       "</table>\n",
       "</div>"
      ],
      "text/plain": [
       "              P             Q\n",
       "0  7.888609e-31  1.486720e-07\n",
       "1  7.888609e-29  2.438962e-07\n",
       "2  3.904861e-27  3.961301e-07\n",
       "3  1.275588e-25  6.369829e-07\n",
       "4  3.093301e-24  1.014086e-06"
      ]
     },
     "execution_count": 11,
     "metadata": {},
     "output_type": "execute_result"
    }
   ],
   "source": [
    "import pandas as pd\n",
    "df = pd.read_csv(\"data_KL.csv\", index_col=0)\n",
    "df.head()"
   ]
  },
  {
   "cell_type": "code",
   "execution_count": 12,
   "id": "374d9c49",
   "metadata": {},
   "outputs": [],
   "source": [
    "def kl_divergence(p, q):\n",
    "    return np.sum(p * np.log(p / q))\n",
    "\n",
    "p = df[[\"P\"]].to_numpy()\n",
    "q = df[[\"Q\"]].to_numpy()"
   ]
  },
  {
   "cell_type": "code",
   "execution_count": 15,
   "id": "95d6ed5d",
   "metadata": {},
   "outputs": [],
   "source": [
    "p /= np.sum(p)\n",
    "q /= np.sum(q)"
   ]
  },
  {
   "cell_type": "code",
   "execution_count": 16,
   "id": "6dce96b6",
   "metadata": {},
   "outputs": [],
   "source": [
    "kl_div = kl_divergence(p, q)"
   ]
  },
  {
   "cell_type": "code",
   "execution_count": 17,
   "id": "bca3d2b5",
   "metadata": {},
   "outputs": [
    {
     "name": "stdout",
     "output_type": "stream",
     "text": [
      "0.3181551004141448\n"
     ]
    }
   ],
   "source": [
    "print(kl_div)"
   ]
  },
  {
   "cell_type": "markdown",
   "id": "f13fd9e7",
   "metadata": {},
   "source": [
    "### 5.3"
   ]
  },
  {
   "cell_type": "markdown",
   "id": "8e8e9d1d",
   "metadata": {},
   "source": [
    "KL divergence measures the difference or \"distance\" between two probability distributions. However, it's important to note that KL divergence is not a true distance metric in the mathematical sense because it's not symmetric and does not satisfy the triangle inequality.\n",
    "\n",
    "In Part I, we computed the KL divergence between two Gaussian distributions analytically using their parameters. This gives us a measure of how one Gaussian distribution diverges from another.\n",
    "\n",
    "In Part II, we computed the KL divergence between two discrete distributions by random sampling from the distributions and then computing the KL divergence based on the sampled data. This gives us an estimate of the difference between the two distributions based on observed data.\n",
    "\n",
    "An alternative approach to capturing the distance between two probability distributions could be to use other metrics like L2 Norm which can be a more extensive to capture distance between the two probability distribution."
   ]
  },
  {
   "cell_type": "markdown",
   "id": "e874c8ad",
   "metadata": {},
   "source": [
    "# Q6)"
   ]
  },
  {
   "cell_type": "markdown",
   "id": "548549b7",
   "metadata": {},
   "source": [
    "### 6.1"
   ]
  },
  {
   "cell_type": "markdown",
   "id": "19b341b0",
   "metadata": {},
   "source": [
    "Initialization:\n",
    "Set initial means m1 and m2.\n",
    "Set initial variances s1 and s2. \n",
    "Set the initial priors to 0.5 each.\n",
    "\n",
    "E-Step (expectation step):\n",
    "For each data point xi, calculate the its likelihood given each distribution using the PDF of a Gaussian distribution.\n",
    "Calculate the posterior probability P(D1| xi) and P(D2| xi).\n",
    "\n",
    "M-Step (Maximization step):\n",
    "Update the means m1 and m2. \n",
    "Update the variances s1 and s2.\n",
    "\n",
    "Convergence Check:\n",
    "Check if the parameters have converged. If not, repeat the E-step and M-step."
   ]
  },
  {
   "cell_type": "code",
   "execution_count": 19,
   "id": "8cb83b61",
   "metadata": {},
   "outputs": [
    {
     "name": "stdout",
     "output_type": "stream",
     "text": [
      "Mean of distribution 1: 5.05, Variance of distribution 1: 3.81\n",
      "Mean of distribution 2: -0.03, Variance of distribution 2: 15.58\n"
     ]
    },
    {
     "data": {
      "image/png": "[encoded data removed]",
      "text/plain": [
       "<Figure size 1200x600 with 1 Axes>"
      ]
     },
     "metadata": {},
     "output_type": "display_data"
    }
   ],
   "source": [
    "import numpy as np\n",
    "import pandas as pd\n",
    "import matplotlib.pyplot as plt\n",
    "from scipy.stats import norm\n",
    "\n",
    "file_path = 'data_open.csv'\n",
    "data = pd.read_csv(file_path, index_col=0)\n",
    "data_points = data.values.flatten()\n",
    "\n",
    "m1, m2 = np.random.choice(data_points, 2)\n",
    "s1, s2 = np.var(data_points), np.var(data_points)\n",
    "pi1, pi2 = 0.5, 0.5\n",
    "tol = 1e-4\n",
    "max_iter = 1000\n",
    "n = len(data_points)\n",
    "\n",
    "\n",
    "for iteration in range(max_iter):\n",
    "\n",
    "    likelihood1 = norm.pdf(data_points, m1, np.sqrt(s1))\n",
    "    likelihood2 = norm.pdf(data_points, m2, np.sqrt(s2))\n",
    "    \n",
    "    posterior1 = (likelihood1 * pi1) / (likelihood1 * pi1 + likelihood2 * pi2)\n",
    "    posterior2 = (likelihood2 * pi2) / (likelihood1 * pi1 + likelihood2 * pi2)\n",
    "    \n",
    "\n",
    "    m1_new = np.sum(data_points * posterior1) / np.sum(posterior1)\n",
    "    m2_new = np.sum(data_points * posterior2) / np.sum(posterior2)\n",
    "    \n",
    "    s1_new = np.sum(posterior1 * (data_points - m1_new)**2) / np.sum(posterior1)\n",
    "    s2_new = np.sum(posterior2 * (data_points - m2_new)**2) / np.sum(posterior2)\n",
    "    \n",
    "\n",
    "    if (abs(m1_new - m1) < tol and abs(m2_new - m2) < tol and\n",
    "        abs(s1_new - s1) < tol and abs(s2_new - s2) < tol):\n",
    "        break\n",
    "    \n",
    "    m1, m2, s1, s2 = m1_new, m2_new, s1_new, s2_new\n",
    "\n",
    "print(f\"Mean of distribution 1: {m1:.2f}, Variance of distribution 1: {s1:.2f}\")\n",
    "print(f\"Mean of distribution 2: {m2:.2f}, Variance of distribution 2: {s2:.2f}\")\n",
    "\n",
    "\n",
    "plt.figure(figsize=(12, 6))\n",
    "plt.hist(data_points, bins=30, density=True, alpha=0.6, color='gray')\n",
    "\n",
    "x = np.linspace(min(data_points), max(data_points), 1000)\n",
    "plt.plot(x, pi1 * norm.pdf(x, m1, np.sqrt(s1)), label=f'Distribution 1\\nMean: {m1:.2f}, Variance: {s1:.2f}')\n",
    "plt.plot(x, pi2 * norm.pdf(x, m2, np.sqrt(s2)), label=f'Distribution 2\\nMean: {m2:.2f}, Variance: {s2:.2f}')\n",
    "\n",
    "plt.xlabel('Data Points')\n",
    "plt.ylabel('Density')\n",
    "plt.title('Separated Distributions')\n",
    "plt.legend()\n",
    "plt.show()\n"
   ]
  },
  {
   "cell_type": "markdown",
   "id": "04772096",
   "metadata": {},
   "source": [
    "### 6.2"
   ]
  },
  {
   "cell_type": "markdown",
   "id": "aea5f615",
   "metadata": {},
   "source": [
    "Yes it is possible to calculate the ratio r, the strategy involves calculating the likelihood of the data points under each distribution and using these likelihoods to estimate the ratio.\n",
    "\n",
    "Given parameters:\n",
    "initial means m1 and m2.\n",
    "initial variances s1 and s2.\n",
    "\n",
    "Calculate Likelihoods: P(xi | D1) and P(xi | D2)\n",
    "\n",
    "Estimate the posterior probavilities: P(D1 | xi) and P(D2 | xi)\n",
    "\n",
    "Update ratios: \n",
    "$ r_1 = \\frac{1}{N} \\sum_{i=1}^{N} P(D1 | xi) \\quad r_2 = \\frac{1}{N} \\sum_{i=1}^{N} P(D2 | xi) $\n",
    "\n",
    "Convergence Check:\n",
    "Iterate the above steps until the ratios r1 and r2 converge."
   ]
  }
 ],
 "metadata": {
  "kernelspec": {
   "display_name": "Python 3 (ipykernel)",
   "language": "python",
   "name": "python3"
  },
  "language_info": {
   "codemirror_mode": {
    "name": "ipython",
    "version": 3
   },
   "file_extension": ".py",
   "mimetype": "text/x-python",
   "name": "python",
   "nbconvert_exporter": "python",
   "pygments_lexer": "ipython3",
   "version": "3.11.7"
  }
 },
 "nbformat": 4,
 "nbformat_minor": 5
}
