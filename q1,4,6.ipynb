{
 "cells": [
  {
   "cell_type": "code",
   "execution_count": 10,
   "id": "fd40996c-bf8b-4957-ae03-605b00edb01b",
   "metadata": {},
   "outputs": [],
   "source": [
    "import scipy as sc\n",
    "import numpy as np\n",
    "import pandas as pd\n",
    "import random"
   ]
  },
  {
   "cell_type": "code",
   "execution_count": 1,
   "id": "296de93a-e1ba-457e-9d8d-e13830e453ad",
   "metadata": {},
   "outputs": [],
   "source": [
    "from matplotlib import pyplot as plt"
   ]
  },
  {
   "cell_type": "markdown",
   "id": "291a16cf-d0e2-4ed5-8ab4-4240a41c36b3",
   "metadata": {},
   "source": [
    "q1 b first \n"
   ]
  },
  {
   "cell_type": "code",
   "execution_count": 11,
   "id": "4d7fdc90-9b84-4477-b417-1f930bde5e74",
   "metadata": {},
   "outputs": [],
   "source": [
    "# setting the value of n and p\n",
    "n = 20\n",
    "p = 0.23\n",
    "dist_b = [sc.stats.binom.pmf(r, n, p) for r in range(n+1)]"
   ]
  },
  {
   "cell_type": "code",
   "execution_count": 12,
   "id": "85130d67-4172-4a6c-9463-d3ed4245f674",
   "metadata": {},
   "outputs": [
    {
     "data": {
      "text/plain": [
       "[0.005368024674737596,\n",
       " 0.032068718836094724,\n",
       " 0.09100019565826885,\n",
       " 0.16309125975118294,\n",
       " 0.207041177151664,\n",
       " 0.19789909919951268,\n",
       " 0.14778179485677884,\n",
       " 0.08828522809625762,\n",
       " 0.042852732468800336,\n",
       " 0.017066889121773288,\n",
       " 0.005607692140011227,\n",
       " 0.0015227499317621994,\n",
       " 0.00034113553666101246,\n",
       " 6.270623251311313e-05,\n",
       " 9.36521654416624e-06,\n",
       " 1.1189609377445386e-06,\n",
       " 1.0444846415634899e-07,\n",
       " 7.340915739025293e-09,\n",
       " 3.654568441506096e-10,\n",
       " 1.1490782522848984e-11,\n",
       " 1.7161558313345875e-13]"
      ]
     },
     "execution_count": 12,
     "metadata": {},
     "output_type": "execute_result"
    }
   ],
   "source": [
    "dist_b"
   ]
  },
  {
   "cell_type": "code",
   "execution_count": 13,
   "id": "56c7cf4c-ad95-4f29-b757-b337fa35fd58",
   "metadata": {},
   "outputs": [
    {
     "data": {
      "text/plain": [
       "<BarContainer object of 21 artists>"
      ]
     },
     "execution_count": 13,
     "metadata": {},
     "output_type": "execute_result"
    },
    {
     "data": {
      "image/png": "[encoded data removed]",
      "text/plain": [
       "<Figure size 640x480 with 1 Axes>"
      ]
     },
     "metadata": {},
     "output_type": "display_data"
    }
   ],
   "source": [
    "plt.bar(range(n+1), dist_b, width = 0.7)"
   ]
  },
  {
   "cell_type": "code",
   "execution_count": 14,
   "id": "11fcd57d-d1b4-4571-9e4a-14cf2d620ae0",
   "metadata": {},
   "outputs": [],
   "source": [
    "mean, var = sc.stats.binom.stats(n,p)"
   ]
  },
  {
   "cell_type": "code",
   "execution_count": 15,
   "id": "58c7f453-8e42-4d8a-8351-05ed27793515",
   "metadata": {},
   "outputs": [
    {
     "data": {
      "text/plain": [
       "4.6000000000000005"
      ]
     },
     "execution_count": 15,
     "metadata": {},
     "output_type": "execute_result"
    }
   ],
   "source": [
    "mean"
   ]
  },
  {
   "cell_type": "code",
   "execution_count": 16,
   "id": "1887f411-6398-41e0-8b7a-f76b47339482",
   "metadata": {},
   "outputs": [
    {
     "data": {
      "text/plain": [
       "3.5420000000000007"
      ]
     },
     "execution_count": 16,
     "metadata": {},
     "output_type": "execute_result"
    }
   ],
   "source": [
    "var"
   ]
  },
  {
   "cell_type": "code",
   "execution_count": 17,
   "id": "942dde0a-8613-4f53-b5fc-97821b1876e3",
   "metadata": {},
   "outputs": [],
   "source": [
    "dist_p = [sc.stats.poisson.pmf(r, n*p) for r in range(n+1)]"
   ]
  },
  {
   "cell_type": "code",
   "execution_count": 18,
   "id": "97aed44d-31fc-4a5c-b903-7c2539553683",
   "metadata": {},
   "outputs": [
    {
     "data": {
      "text/plain": [
       "<BarContainer object of 21 artists>"
      ]
     },
     "execution_count": 18,
     "metadata": {},
     "output_type": "execute_result"
    },
    {
     "data": {
      "image/png": "[encoded data removed]",
      "text/plain": [
       "<Figure size 640x480 with 1 Axes>"
      ]
     },
     "metadata": {},
     "output_type": "display_data"
    }
   ],
   "source": [
    "plt.bar(range(n+1), dist_p)"
   ]
  },
  {
   "cell_type": "code",
   "execution_count": 19,
   "id": "3dc864ea-3fd4-4495-ada2-37b6183ef316",
   "metadata": {},
   "outputs": [],
   "source": [
    "mean_p, var_p = sc.stats.poisson.stats(n*p)"
   ]
  },
  {
   "cell_type": "code",
   "execution_count": 20,
   "id": "ea697cc1-2f16-475a-9593-ba88c53ae313",
   "metadata": {},
   "outputs": [
    {
     "data": {
      "text/plain": [
       "4.6000000000000005"
      ]
     },
     "execution_count": 20,
     "metadata": {},
     "output_type": "execute_result"
    }
   ],
   "source": [
    "mean_p"
   ]
  },
  {
   "cell_type": "code",
   "execution_count": 21,
   "id": "13028652-8874-4636-9770-17dd21b07b66",
   "metadata": {},
   "outputs": [
    {
     "data": {
      "text/plain": [
       "4.6000000000000005"
      ]
     },
     "execution_count": 21,
     "metadata": {},
     "output_type": "execute_result"
    }
   ],
   "source": [
    "var_p"
   ]
  },
  {
   "cell_type": "markdown",
   "id": "5ef08c7f-bc7c-4f3c-b3da-d7202f8c7937",
   "metadata": {},
   "source": [
    "thus we can say mean is same but varriance differs alot"
   ]
  },
  {
   "cell_type": "markdown",
   "id": "6b9c7336-0215-48d5-ad39-13504010da3f",
   "metadata": {},
   "source": [
    "##Q1 b second ##\n"
   ]
  },
  {
   "cell_type": "code",
   "execution_count": 22,
   "id": "2ba0639d-3f6f-424a-9718-7abc2f1900f7",
   "metadata": {},
   "outputs": [],
   "source": [
    "n = 300000\n",
    "p = .000001"
   ]
  },
  {
   "cell_type": "code",
   "execution_count": 23,
   "id": "eb41aa75-fde9-4fc9-a5f7-27b13fc4a218",
   "metadata": {},
   "outputs": [],
   "source": [
    "dist_b = pd.Series(sc.stats.binom.pmf(r,n,p) for r in range(n+1))"
   ]
  },
  {
   "cell_type": "code",
   "execution_count": 24,
   "id": "12e42311-99fe-4c0e-a2d7-a5d3ddc23d8e",
   "metadata": {},
   "outputs": [
    {
     "data": {
      "text/plain": [
       "count    300001.000000\n",
       "mean          0.000003\n",
       "std           0.001413\n",
       "min           0.000000\n",
       "25%           0.000000\n",
       "50%           0.000000\n",
       "75%           0.000000\n",
       "max           0.740818\n",
       "dtype: float64"
      ]
     },
     "execution_count": 24,
     "metadata": {},
     "output_type": "execute_result"
    }
   ],
   "source": [
    "dist_b.describe()"
   ]
  },
  {
   "cell_type": "markdown",
   "id": "301c54fe-371e-41e1-bd08-e58c6702857b",
   "metadata": {},
   "source": [
    "lets see for poisson with lambda = n*p"
   ]
  },
  {
   "cell_type": "code",
   "execution_count": 25,
   "id": "b082dc3e-eb40-4c59-8b20-dc7b6afa8d98",
   "metadata": {},
   "outputs": [],
   "source": [
    "lamba = n*p"
   ]
  },
  {
   "cell_type": "code",
   "execution_count": 26,
   "id": "92ffa6e7-ce74-4dbc-a4f5-632e50f710e8",
   "metadata": {},
   "outputs": [],
   "source": [
    "dist_p = pd.Series(sc.stats.poisson.pmf(r, lamba) for r in range(n+1))"
   ]
  },
  {
   "cell_type": "code",
   "execution_count": 27,
   "id": "5ef2a006-1b43-456b-baed-7500f0eed719",
   "metadata": {},
   "outputs": [
    {
     "data": {
      "text/plain": [
       "count    300001.000000\n",
       "mean          0.000003\n",
       "std           0.001413\n",
       "min           0.000000\n",
       "25%           0.000000\n",
       "50%           0.000000\n",
       "75%           0.000000\n",
       "max           0.740818\n",
       "dtype: float64"
      ]
     },
     "execution_count": 27,
     "metadata": {},
     "output_type": "execute_result"
    }
   ],
   "source": [
    "dist_p.describe()"
   ]
  },
  {
   "cell_type": "markdown",
   "id": "7d2ec100-06ef-4920-8bd4-b669dcf02826",
   "metadata": {},
   "source": [
    "now there is no difference between poisson and binomial when n tends to infinity and p tends to zero but n*p is a normal number"
   ]
  },
  {
   "cell_type": "markdown",
   "id": "c7c993b9-718b-4b41-923f-fb5d0ce841be",
   "metadata": {},
   "source": [
    "# Q4 #"
   ]
  },
  {
   "cell_type": "code",
   "execution_count": 30,
   "id": "dee42ea5-8a45-4ac3-a670-0be8d43d7473",
   "metadata": {},
   "outputs": [],
   "source": [
    "data = {'x=2':2/27,\n",
    "        'x=3':3/27,\n",
    "        'x=1':1/27,\n",
    "       'x=1':1/27,\n",
    "       'x=7':7/27,\n",
    "       'x=0':0/27,\n",
    "       'x=4':4/27,\n",
    "       'x=5':9/27}\n",
    "\n",
    "# Create a DataFrame\n",
    "df = pd.DataFrame(data, index = ['P(X) = x'])"
   ]
  },
  {
   "cell_type": "code",
   "execution_count": 31,
   "id": "9fa6affb-bbf0-4208-8b9a-a557348f6636",
   "metadata": {},
   "outputs": [
    {
     "data": {
      "text/html": [
       "<div>\n",
       "<style scoped>\n",
       "    .dataframe tbody tr th:only-of-type {\n",
       "        vertical-align: middle;\n",
       "    }\n",
       "\n",
       "    .dataframe tbody tr th {\n",
       "        vertical-align: top;\n",
       "    }\n",
       "\n",
       "    .dataframe thead th {\n",
       "        text-align: right;\n",
       "    }\n",
       "</style>\n",
       "<table border=\"1\" class=\"dataframe\">\n",
       "  <thead>\n",
       "    <tr style=\"text-align: right;\">\n",
       "      <th></th>\n",
       "      <th>x=2</th>\n",
       "      <th>x=3</th>\n",
       "      <th>x=1</th>\n",
       "      <th>x=7</th>\n",
       "      <th>x=0</th>\n",
       "      <th>x=4</th>\n",
       "      <th>x=5</th>\n",
       "    </tr>\n",
       "  </thead>\n",
       "  <tbody>\n",
       "    <tr>\n",
       "      <th>P(X) = x</th>\n",
       "      <td>0.074074</td>\n",
       "      <td>0.111111</td>\n",
       "      <td>0.037037</td>\n",
       "      <td>0.259259</td>\n",
       "      <td>0.0</td>\n",
       "      <td>0.148148</td>\n",
       "      <td>0.333333</td>\n",
       "    </tr>\n",
       "  </tbody>\n",
       "</table>\n",
       "</div>"
      ],
      "text/plain": [
       "               x=2       x=3       x=1       x=7  x=0       x=4       x=5\n",
       "P(X) = x  0.074074  0.111111  0.037037  0.259259  0.0  0.148148  0.333333"
      ]
     },
     "execution_count": 31,
     "metadata": {},
     "output_type": "execute_result"
    }
   ],
   "source": [
    "df"
   ]
  },
  {
   "cell_type": "markdown",
   "id": "8e56a174-6888-4346-a7b4-ee7d94ea855c",
   "metadata": {},
   "source": [
    "now lets take random samples of size 10000 and calculate mean and varrience of them 10000 times each "
   ]
  },
  {
   "cell_type": "code",
   "execution_count": 33,
   "id": "584dbb7e-39a1-42da-b9de-34a20c7ebeb6",
   "metadata": {},
   "outputs": [],
   "source": [
    "ListOfMeans = []\n",
    "for i in range(10000):\n",
    "    ListOfSamples = []\n",
    "    for j in range(10000):\n",
    "        sample = random.sample([2,3,1,1,7,0,4,5], 1)\n",
    "        ListOfSamples.append(sample[0])\n",
    "    ListOfMeans.append(pd.Series(ListOfSamples).mean())\n",
    "    ListOfSamples = []"
   ]
  },
  {
   "cell_type": "code",
   "execution_count": 34,
   "id": "931f0e36-9629-4137-938c-c11a0dc3b976",
   "metadata": {},
   "outputs": [
    {
     "data": {
      "text/plain": [
       "(array([  1.,   1.,   0.,   0.,   2.,   1.,   1.,   2.,   0.,   0.,   2.,\n",
       "          3.,   5.,  12.,   7.,   8.,   9.,  14.,  15.,  20.,  22.,  24.,\n",
       "         32.,  34.,  41.,  42.,  53.,  63.,  66.,  74.,  91., 107., 111.,\n",
       "        124., 170., 145., 167., 189., 188., 217., 248., 216., 250., 281.,\n",
       "        274., 299., 283., 293., 290., 273., 310., 336., 267., 289., 302.,\n",
       "        273., 296., 256., 225., 265., 222., 212., 199., 213., 177., 159.,\n",
       "        155., 125., 109., 120.,  88.,  89.,  85.,  69.,  58.,  44.,  43.,\n",
       "         46.,  30.,  33.,  24.,  23.,  14.,  22.,   8.,   5.,   8.,   8.,\n",
       "          4.,   4.,   6.,   2.,   1.,   1.,   2.,   1.,   0.,   0.,   1.,\n",
       "          1.]),\n",
       " array([2.7905  , 2.792166, 2.793832, 2.795498, 2.797164, 2.79883 ,\n",
       "        2.800496, 2.802162, 2.803828, 2.805494, 2.80716 , 2.808826,\n",
       "        2.810492, 2.812158, 2.813824, 2.81549 , 2.817156, 2.818822,\n",
       "        2.820488, 2.822154, 2.82382 , 2.825486, 2.827152, 2.828818,\n",
       "        2.830484, 2.83215 , 2.833816, 2.835482, 2.837148, 2.838814,\n",
       "        2.84048 , 2.842146, 2.843812, 2.845478, 2.847144, 2.84881 ,\n",
       "        2.850476, 2.852142, 2.853808, 2.855474, 2.85714 , 2.858806,\n",
       "        2.860472, 2.862138, 2.863804, 2.86547 , 2.867136, 2.868802,\n",
       "        2.870468, 2.872134, 2.8738  , 2.875466, 2.877132, 2.878798,\n",
       "        2.880464, 2.88213 , 2.883796, 2.885462, 2.887128, 2.888794,\n",
       "        2.89046 , 2.892126, 2.893792, 2.895458, 2.897124, 2.89879 ,\n",
       "        2.900456, 2.902122, 2.903788, 2.905454, 2.90712 , 2.908786,\n",
       "        2.910452, 2.912118, 2.913784, 2.91545 , 2.917116, 2.918782,\n",
       "        2.920448, 2.922114, 2.92378 , 2.925446, 2.927112, 2.928778,\n",
       "        2.930444, 2.93211 , 2.933776, 2.935442, 2.937108, 2.938774,\n",
       "        2.94044 , 2.942106, 2.943772, 2.945438, 2.947104, 2.94877 ,\n",
       "        2.950436, 2.952102, 2.953768, 2.955434, 2.9571  ]),\n",
       " <BarContainer object of 100 artists>)"
      ]
     },
     "execution_count": 34,
     "metadata": {},
     "output_type": "execute_result"
    },
    {
     "data": {
      "image/png": "[encoded data removed]",
      "text/plain": [
       "<Figure size 640x480 with 1 Axes>"
      ]
     },
     "metadata": {},
     "output_type": "display_data"
    }
   ],
   "source": [
    "plt.hist(ListOfMeans, bins = 100)"
   ]
  },
  {
   "cell_type": "markdown",
   "id": "600de5cc-7b1b-4fc1-9731-79150ee147ee",
   "metadata": {},
   "source": [
    "resulted graph is nearly same as normal distribution "
   ]
  },
  {
   "cell_type": "code",
   "execution_count": 35,
   "id": "2d7779a5-4008-4bf2-8e69-44eb8b99590f",
   "metadata": {},
   "outputs": [],
   "source": [
    "mean1 = 4.52\n",
    "stddev1 = 4.496"
   ]
  },
  {
   "cell_type": "markdown",
   "id": "55bb6b2d-716c-4648-8c0d-18fb231a7c3b",
   "metadata": {},
   "source": [
    "# Q6 #"
   ]
  },
  {
   "cell_type": "code",
   "execution_count": 37,
   "id": "473ed2a8-5c5a-4c1a-9a02-7faacc99dbb9",
   "metadata": {},
   "outputs": [
    {
     "name": "stdout",
     "output_type": "stream",
     "text": [
      "Z-score: 28.27076228190531\n",
      "P-value: 1.24609375\n",
      "P-value for p = 0.497: 1.231284540041297\n"
     ]
    }
   ],
   "source": [
    "from scipy.stats import binom\n",
    "\n",
    "\n",
    "x_bar = 4.97\n",
    "n = 10\n",
    "p_null = 0.5\n",
    "se = (p_null * (1 - p_null) / n)**0.5\n",
    "z = (x_bar - p_null) / se\n",
    "p_value = 2 * (1 - binom.cdf(int(x_bar), n, p_null))\n",
    "print(\"Z-score:\", z)\n",
    "print(\"P-value:\", p_value)\n",
    "p_alt = 0.497\n",
    "p_value_alt = 2 * (1 - binom.cdf(int(x_bar), n, p_alt))\n",
    "print(\"P-value for p = 0.497:\", p_value_alt)\n"
   ]
  },
  {
   "cell_type": "code",
   "execution_count": null,
   "id": "43630cea-2e17-4ee0-947f-9c96a9a0a0a5",
   "metadata": {},
   "outputs": [],
   "source": []
  }
 ],
 "metadata": {
  "kernelspec": {
   "display_name": "Python 3 (ipykernel)",
   "language": "python",
   "name": "python3"
  },
  "language_info": {
   "codemirror_mode": {
    "name": "ipython",
    "version": 3
   },
   "file_extension": ".py",
   "mimetype": "text/x-python",
   "name": "python",
   "nbconvert_exporter": "python",
   "pygments_lexer": "ipython3",
   "version": "3.12.3"
  }
 },
 "nbformat": 4,
 "nbformat_minor": 5
}
