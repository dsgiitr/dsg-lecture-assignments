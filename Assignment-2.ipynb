{
 "cells": [
  {
   "cell_type": "markdown",
   "id": "f57181a5-9001-42b0-a5cb-3549c8fb9300",
   "metadata": {},
   "source": [
    "**Question 1**<br>\n",
    "given,<br>$\\theta\\to N(5,9)$<br>$x \\to N(\\theta,4)$<br><br>\n"
   ]
  },
  {
   "cell_type": "markdown",
   "id": "a9161e4b-1b8a-4da0-9c2e-5c81a1b247d9",
   "metadata": {},
   "source": [
    "**1.1)** $P(\\theta|X)=\\frac{P(X|\\theta).P(\\theta)}{P(X)}$<br><br>\n",
    "now X=6<br>$P(\\theta|6)=\\frac{P(6|\\theta).P(\\theta)}{P(6)}$<br>\n",
    "where, $P(\\theta|6)$ is posterior.<br>\n",
    "$P(\\theta)=\\frac{1}{3\\sqrt{2\\pi}}e^{-\\frac{1}{2}.(\\frac{\\theta-5}{3})^{2}}$<br>\n",
    "$P(6|\\theta)=\\frac{1}{2\\sqrt{2\\pi}}e^{-\\frac{1}{2}.(\\frac{6-\\theta}{2})^{2}}$<br>\n",
    "$P(6)=\\int_{-\\infty}^{\\infty}\\frac{1}{12\\pi}e^{-\\frac{1}{2}.((\\frac{6-\\theta}{2})^{2}+(\\frac{\\theta-5}{3})^{2})}$<br><br>\n",
    "on solving the integral we get,<br>\n",
    "$P(6).12\\pi=\\dfrac{3{\\cdot}2^\\frac{3}{2}\\mathrm{e}^{-\\frac{1}{26}}\\sqrt{{\\pi}}}{\\sqrt{13}}$<br>\n",
    "after substituting and simplyfying we get<br>\n",
    "$P(\\theta|6)=\\frac{e^{-(\\frac{13\\theta^2-148\\theta+424}{72})}}{\\dfrac{3{\\cdot}2^\\frac{3}{2}\\mathrm{e}^{-\\frac{1}{26}}\\sqrt{{\\pi}}}{\\sqrt{13}}}$ = $\\frac{1}{\\sqrt{\\frac{36}{13}.2\\pi}}e^{-\\frac{1}{2}.(\\frac{(\\theta-\\frac{74}{13})^{2}}{\\frac{36}{13}})}$<br>\n",
    "$P(\\theta|6) \\to N(\\frac{74}{13},\\frac{36}{13})$<br>"
   ]
  },
  {
   "cell_type": "markdown",
   "id": "39465689-df5a-4eb3-a10a-67a1d015ba6e",
   "metadata": {},
   "source": [
    "**1.2)**<br>\n",
    "Given,<br>\n",
    "Noise~N($\\theta$,4)<br>\n",
    "prior P($\\theta$) $\\to$ N(5,9)\n",
    "$\\mu_{prior}=5$,$\\sigma^{2}_{prior}=9$<br>\n",
    "using normal-normal bayesian updating,<br>\n",
    "$a=\\frac{1}{\\sigma^{2}_{prior}},b=\\frac{n}{\\sigma^{2}_{likelihood}}=\\frac{n}{4}$<br>\n",
    "therefore,<br>\n",
    "$\\mu_{post}=\\frac{20+9n\\bar{x}}{9n+4}$\n",
    "$\\sigma^{2}_{post}=\\frac{36}{9n+4}$<br>"
   ]
  },
  {
   "cell_type": "markdown",
   "id": "29bb8da2-64c1-49c0-99af-6087b091bb96",
   "metadata": {},
   "source": [
    "**1.3)** As the number of samples are increased n$\\to\\infty$ the variance tends to 0 this shows that more samples occupy the gaps in the cluster of data making it more concentrated. And as variance tends to zero shows its convergence hence we can calculate $\\theta$ with more certainity.<br>\n",
    "<br>\n",
    "Also, as $n \\to \\infty$ we can observe that the posterior mean tends to the sample mean $\\bar{x}$ as its weight increases.<br>"
   ]
  },
  {
   "cell_type": "markdown",
   "id": "6d622931-9fe1-4ca7-acda-c35bdf71863f",
   "metadata": {},
   "source": [
    "**1.4)** Given, <br>\n",
    "True IQ(Y) = N(100,152) $\\to$ prior<br>\n",
    "True(Y) - Test(X) = N(0,102)<br>\n",
    "if Test(X=x) then, Y|X=x ~ N(x,102) $\\to$ likelihood<br>\n",
    "now to find posterior we can use bayes' inference<br>\n",
    "posterior = (likelihood*prior)/evidence <br><br>\n",
    "**1.4.1)** x=80;<br>\n",
    "posterior = $\\frac{\\frac{1}{\\sqrt{102.2\\pi}}e^{-\\frac{1}{2}.(\\frac{(y-80)^2}{102})}.\\frac{1}{\\sqrt{152.2\\pi}}e^{-\\frac{1}{2}.(\\frac{(y-100)^2}{152})}}{\\int_{-\\infty}^{\\infty}\\frac{1}{\\sqrt{102.2\\pi}}e^{-\\frac{1}{2}.(\\frac{(y-80)^2}{102})}.\\frac{1}{\\sqrt{152.2\\pi}}e^{-\\frac{1}{2}.(\\frac{(y-100)^2}{152})}}$<br><br>\n",
    "E(posterior) = $\\int_{-\\infty}^{\\infty}y.\\frac{\\frac{1}{\\sqrt{102.2\\pi}}e^{-\\frac{1}{2}.(\\frac{(y-80)^2}{102})}.\\frac{1}{\\sqrt{152.2\\pi}}e^{-\\frac{1}{2}.(\\frac{(y-100)^2}{152})}}{\\int_{-\\infty}^{\\infty}\\frac{1}{\\sqrt{102.2\\pi}}e^{-\\frac{1}{2}.(\\frac{(y-80)^2}{102})}.\\frac{1}{\\sqrt{152.2\\pi}}e^{-\\frac{1}{2}.(\\frac{(y-100)^2}{152})}}$ <br>\n",
    "on solving the integrals we get,<br>\n",
    "E(posterior)= $\\frac{44720}{4.127}$ = **88.03** <br><br>\n",
    "**1.4.2)** x=150;<br>\n",
    "posterior = $\\frac{\\frac{1}{\\sqrt{102.2\\pi}}e^{-\\frac{1}{2}.(\\frac{(y-150)^2}{102})}.\\frac{1}{\\sqrt{152.2\\pi}}e^{-\\frac{1}{2}.(\\frac{(y-100)^2}{152})}}{\\int_{-\\infty}^{\\infty}\\frac{1}{\\sqrt{102.2\\pi}}e^{-\\frac{1}{2}.(\\frac{(y-150)^2}{102})}.\\frac{1}{\\sqrt{152.2\\pi}}e^{-\\frac{1}{2}.(\\frac{(y-100)^2}{152})}}$<br><br>\n",
    "E(posterior) = $\\int_{-\\infty}^{\\infty}y.\\frac{\\frac{1}{\\sqrt{102.2\\pi}}e^{-\\frac{1}{2}.(\\frac{(y-150)^2}{102})}.\\frac{1}{\\sqrt{152.2\\pi}}e^{-\\frac{1}{2}.(\\frac{(y-100)^2}{152})}}{\\int_{-\\infty}^{\\infty}\\frac{1}{\\sqrt{102.2\\pi}}e^{-\\frac{1}{2}.(\\frac{(y-150)^2}{102})}.\\frac{1}{\\sqrt{152.2\\pi}}e^{-\\frac{1}{2}.(\\frac{(y-100)^2}{152})}}$ <br>\n",
    "on solving the integrals we get,(or using normal-normal bayesian updating)<br>\n",
    "E(posterior)= $\\frac{66000}{4.127}$ = **129.92** <br><br>"
   ]
  },
  {
   "cell_type": "markdown",
   "id": "ed74e7e7-488e-492e-b774-5f76ff2b6d88",
   "metadata": {},
   "source": [
    "**Question 2:**"
   ]
  },
  {
   "cell_type": "markdown",
   "id": "dbba4d75-cf4c-439e-ab9c-055d2346c2b7",
   "metadata": {},
   "source": [
    "N($\\mu,\\sigma^{2}$)<br>\n",
    "$f(x)=\\frac{1}{\\sigma\\sqrt{2\\pi}}e^{\\frac{-(x-\\mu)^2}{2\\sigma^2}}$<br>\n",
    "suppose we have n samples,\n",
    "$x_1,x_2,x_3....,x_n$ <br>\n",
    "liikelihood function,<br>\n",
    "$L(\\theta)=f(x_1).f(x_2).f(x_3)....f(x_n)=\\frac{1}{(2\\pi)^{n/2}(\\sigma)^n}e^{\\frac{-1}{2\\sigma^2}[(x_1-\\mu)^{2}+(x_2-\\mu)^{2}+....(x_n-\\mu)^{2}]}$\n",
    "<br>\n",
    "now to maximize likelihood wrt $\\mu$ and $\\sigma$,<br>\n",
    "to make calculations simpler lets take log-likelihood,<br>\n",
    "$log(L(\\theta))=-\\frac{n}{2}log(2\\pi)-nlog(\\sigma)-\\frac{1}{2\\sigma^2}[(x_1-\\mu)^{2}+(x_2-\\mu)^{2}+....(x_n-\\mu)^{2}]$<br><br>\n",
    "$\\frac{d(log(L(\\theta)))}{d\\mu}=0$<br><br>\n",
    "$\\mu=\\frac{\\sum_{i=1}^{n}x_i}{n}$<br><br>\n",
    "$\\frac{d(log(L(\\theta)))}{d\\sigma}=0$<br><br>\n",
    "$-\\frac{n}{\\sigma}+\\frac{1}{\\sigma^3}(\\sum_{1=n}^n(x_i)^2+n\\mu^2-2\\mu\\sum_{i=1}^nx_i)=0$<br>\n",
    "$\\sigma=\\frac{1}{n}\\sum_{i=1}^n(x_i)^2+\\mu^2-2\\mu\\sum_{i=1}^n\\frac{x_i}{n}$<br><br>\n",
    "$\\sigma^2=\\frac{\\sum(x_i-\\mu)^2}{n}$"
   ]
  },
  {
   "cell_type": "code",
   "execution_count": 1,
   "id": "ab96029a-2448-4076-8fed-4606b48c2c64",
   "metadata": {},
   "outputs": [
    {
     "name": "stdout",
     "output_type": "stream",
     "text": [
      "MLE Estimates:\n",
      "mu = 6.977867773182721\n",
      "sigma = 2.9495817597206218\n",
      "\n"
     ]
    },
    {
     "data": {
      "image/png": "[encoded data removed]",
      "text/plain": [
       "<Figure size 640x480 with 1 Axes>"
      ]
     },
     "metadata": {},
     "output_type": "display_data"
    }
   ],
   "source": [
    "import numpy as np\n",
    "from scipy.optimize import minimize\n",
    "import matplotlib.pyplot as plt\n",
    "from scipy.stats import norm\n",
    "\n",
    "true_mu = 7\n",
    "true_sigma = 3\n",
    "data = np.random.normal(true_mu, true_sigma, 1000)\n",
    "\n",
    "def neg_log_likelihood(params, data):\n",
    "    mu, sigma = params[0], params[1]\n",
    "    if sigma <= 0: \n",
    "        return np.inf\n",
    "    n = len(data)\n",
    "    ll = -0.5 * n * np.log(2 * np.pi) - n * np.log(sigma) - (1 / (2 * sigma ** 2)) * np.sum((data - mu) ** 2)\n",
    "    return -ll  \n",
    "\n",
    "guess = [0, 1]\n",
    "result = minimize(neg_log_likelihood, guess, args=(data,), bounds=[(None, None), (1e-6, None)])\n",
    "mle_mu, mle_sigma = result.x\n",
    "\n",
    "print(f\"MLE Estimates:\\nmu = {mle_mu}\\nsigma = {mle_sigma}\\n\")\n",
    "\n",
    "x = np.linspace(min(data),max(data),1000)\n",
    "original_pmf = norm.pdf(x,true_mu,true_sigma)\n",
    "estimated_pmf = norm.pdf(x,mle_mu,mle_sigma)\n",
    "plt.plot(x,original_pmf,label='Original Distribution',alpha=0.5)\n",
    "plt.plot(x,estimated_pmf,label='ML Estimated distribution',alpha=0.5)\n",
    "plt.xlabel('x') \n",
    "plt.ylabel('P(X=x)') \n",
    "plt.title('Maximum Likelihood Estimate') \n",
    "plt.legend() \n",
    "plt.grid(True) \n",
    "plt.show()"
   ]
  },
  {
   "cell_type": "markdown",
   "id": "656c8f12-bd54-4dc5-b2e6-16d49d5b685c",
   "metadata": {},
   "source": [
    "<br>**Question 3:**<br>\n",
    "In a logistic regression model,<br>\n",
    "X is the input vector,<br>\n",
    "Y is the label vector and <br>\n",
    "w is the parameter vector.<br>\n",
    "and the probability of ith label $y_i$ given the input $x_i$ and the parameter w <br> can be modeled by using sigmoid function $\\sigma(z)=\\frac{1}{1+e^{-z}}$<br><br>\n",
    "P($y_i=1|x_i,w$)=$\\sigma(w^Tx_i)$=$\\frac{1}{1+e^{-w^Tx_{i}}}$<br>\n",
    "P($y_i=0|x_i,w$)=$1-\\sigma(w^Tx_i)$=$\\frac{1}{1+e^{w^Tx_{i}}}$<br>\n",
    "Therefore the likelihood of the entire dataset can be given by,<br>\n",
    "P(y|X,w)=$\\prod^{N}_{i=1}P(y_i|x_i,w)=\\prod^{N}_{i=1}\\sigma(w^Tx_i)^{y_i}(1-\\sigma(w^Tx_i)^{y_i})^{1-y_i}$"
   ]
  },
  {
   "cell_type": "markdown",
   "id": "a77dfafb-1d5e-4b50-b054-eef235fd4102",
   "metadata": {},
   "source": [
    "The prior of the dataset is just P(w)$\\to$N(w|$\\mu,\\epsilon$)<br>\n",
    "where $\\mu$ is the mean and $\\epsilon$ is the covariance matrix\n",
    "<br>\n",
    "And the posterior is $P(w|X,y)=\\frac{P(y|X,w).P(w)}{P(y|X)}$"
   ]
  },
  {
   "cell_type": "code",
   "execution_count": 13,
   "id": "3782703e-9544-4aa9-9cc8-ef2cbbb2d6cd",
   "metadata": {},
   "outputs": [
    {
     "name": "stdout",
     "output_type": "stream",
     "text": [
      "true Beta:  [ 0.28540966 -0.98083022 -0.06381184 -0.73868922 -0.89687095]\n",
      "MAP estimate of beta:  [ 0.22168282 -0.84524362 -0.14611654 -0.56873804 -0.75182975]\n"
     ]
    }
   ],
   "source": [
    "import numpy as np\n",
    "import math\n",
    "from scipy.optimize import minimize\n",
    "\n",
    "def sigmoid(x):\n",
    "    return 1/(1+np.exp(-x))\n",
    "\n",
    "n_samples, n_features = 1000, 5\n",
    "X = np.random.randn(n_samples, n_features)\n",
    "true_beta = np.random.randn(n_features)\n",
    "y = (np.random.rand(n_samples) < sigmoid(np.dot(X ,true_beta))).astype(int)\n",
    "\n",
    "def negpost(beta,X,mu,sigma,y):\n",
    "    A = np.dot(X,beta)\n",
    "    log_likelihood = np.sum(y*np.log(sigmoid(A)) + (1-y)*np.log(1-sigmoid(A)))\n",
    "    log_prior = -0.5 * np.sum(((beta-mu)/sigma)**2)-(len(beta)/2) * np.log(2 * math.pi * sigma**2)\n",
    "    return -(log_likelihood + log_prior)  \n",
    "\n",
    "mu_prior=np.zeros(X.shape[1])\n",
    "sigma_prior=16\n",
    "initial_guess=np.zeros(X.shape[1])\n",
    "result=minimize(negpost, initial_guess, args=(X, mu_prior, sigma_prior, y))\n",
    "beta_map = result.x\n",
    "print(\"true Beta: \",true_beta)\n",
    "print(\"MAP estimate of beta: \", beta_map)\n"
   ]
  },
  {
   "cell_type": "markdown",
   "id": "62de540a-4277-4a23-8c20-baeb7966f04b",
   "metadata": {},
   "source": [
    "<br>"
   ]
  },
  {
   "cell_type": "markdown",
   "id": "2d5e7bb2-e759-4197-83f9-0481c6c8347d",
   "metadata": {},
   "source": [
    "**Question 4:**"
   ]
  },
  {
   "cell_type": "markdown",
   "id": "de664a03-275b-4d47-ab77-e9d99b3f2fc2",
   "metadata": {},
   "source": [
    "**4.1)** <br>\n",
    "For 1 point, there are 2 possible labelings: <br>\n",
    "{1} and {0}<br>\n",
    "The constant function<br> \n",
    "f(x)=1 can classify the point as positive.<br> f(x)=0 can classify the point as negative<br>\n",
    "shatter any single point.<br>the set of constant functions can shatter sets of size 0 and 1 but cannot shatter any \n",
    "set of size 2 or more, the maximum number of points that can be shattered by the \n",
    "set of constant functions is 1. hence, VC dimension of constant functions is 1."
   ]
  },
  {
   "cell_type": "markdown",
   "id": "f10c8dab-9d30-4885-9fa8-fad88ae61b1b",
   "metadata": {},
   "source": [
    "**4.2)**\n",
    "With a single data point, you can't learn anything specific about the linear function.\n",
    "With two points, you can potentially learn a line that separates them (if they are not linearly separable, the VC dimension is 0).\n",
    "As you add more data points, you can create more complex decision boundaries by adjusting the weights and bias of the hyperplane. However, there's a limit to how many data points you can perfectly classify with a linear function in d dimensions. therefore the VC dimension will be d+1"
   ]
  },
  {
   "cell_type": "markdown",
   "id": "7cdf7042-95f7-4be9-ad87-ab2981789f8e",
   "metadata": {},
   "source": [
    "**4.3)**<br>With one data point, you can't determine anything about the rectangle.\n",
    "With two points, you can create a rectangle that encloses them<br>\n",
    "With three points, you can potentially create a rectangle that excludes one point while enclosing the other two.<br>\n",
    "With four points, you might encounter a configuration where no axis-aligned rectangle can perfectly classify all points<br>\n",
    "therefore, VC dimension of an axis-aligned rectangle in 2D is 4."
   ]
  },
  {
   "cell_type": "markdown",
   "id": "58616093-816a-484b-beee-5e7a87d3ba05",
   "metadata": {},
   "source": [
    "**4.4)** A set of two points can be shattered, since there's only a single block of positive examples that could lie within the interval. But no set of 3 points can be shattered, because it can not be labeled in alternating +; - ; + order.Hence VC dimension of intervals is 2."
   ]
  },
  {
   "cell_type": "markdown",
   "id": "a00c1c2a-5f21-4f83-b628-bb46c02ad4a2",
   "metadata": {},
   "source": [
    "**Question 5:**"
   ]
  },
  {
   "cell_type": "markdown",
   "id": "1c4edc67-8e8c-47e8-a4a5-5ab033be0460",
   "metadata": {},
   "source": [
    "**5.1)**<br>$KL(f||g)=\\int[log(f(x))-log(g(x))]f(x)dx$<br>\n",
    "$f(x)=\\frac{1}{\\sqrt{2\\pi}\\sigma_1}e^{\\frac{-1}{2}(\\frac{x-\\mu_1}{\\sigma_1})^2}$<br>\n",
    "$g(x)=\\frac{1}{\\sqrt{2\\pi}\\sigma_2}e^{\\frac{-1}{2}(\\frac{x-\\mu_2}{\\sigma_2})^2}$<br>\n",
    "$log(f(x))-log(g(x))=log(\\frac{\\sigma_2}{\\sigma_1})-0.5(\\frac{x-\\mu_1}{\\sigma_1})^2+0.5(\\frac{x-\\mu_2}{\\sigma_2})^2$<br>\n",
    "    =$log(\\frac{\\sigma_2}{\\sigma_1})+0.5(\\frac{(\\sigma_1^2-\\sigma_2^2)x^2+(\\sigma_1^2\\mu_2^2-\\sigma_2^2\\mu_1^2)+...}{(\\sigma_2\\sigma_1)^2})$<br>\n",
    "$KL(f||g)=log(\\frac{\\sigma_2}{\\sigma_1})+\\frac{\\sigma_1^2+(\\mu1-\\mu2)^2}{2\\sigma_2^2}-\\frac{1}{2}$<br>"
   ]
  },
  {
   "cell_type": "markdown",
   "id": "3ad5f7bf-af7b-4ded-b1c4-ddec06c75731",
   "metadata": {},
   "source": [
    "**5.3)**<br>\n",
    "KL divergence capture the additional data needed to represent one probability distribution(p) in terms of another(q) assuming q is the true distribution. A higher KL divergence value indicates a large difference between the two distributions."
   ]
  },
  {
   "cell_type": "markdown",
   "id": "545cb119-4637-4b10-82b8-2eb20c9a7c79",
   "metadata": {},
   "source": [
    "**Question 6:**"
   ]
  },
  {
   "cell_type": "code",
   "execution_count": 7,
   "id": "ae2fbf3e-74ca-4434-943e-08e786373985",
   "metadata": {},
   "outputs": [
    {
     "name": "stdout",
     "output_type": "stream",
     "text": [
      "[1.45511241e-013 0.00000000e+000 0.00000000e+000 ... 2.14659638e-005\n",
      " 1.05125455e-253 3.68908344e-217]\n",
      "[1.45869159e-013 0.00000000e+000 0.00000000e+000 ... 2.14405072e-005\n",
      " 1.18894007e-253 4.09687480e-217]\n",
      "[-3.57917859e-016  0.00000000e+000  0.00000000e+000 ...  2.54565717e-008\n",
      " -1.37685513e-254 -4.07791359e-218]\n"
     ]
    },
    {
     "data": {
      "text/html": [
       "<div>\n",
       "<style scoped>\n",
       "    .dataframe tbody tr th:only-of-type {\n",
       "        vertical-align: middle;\n",
       "    }\n",
       "\n",
       "    .dataframe tbody tr th {\n",
       "        vertical-align: top;\n",
       "    }\n",
       "\n",
       "    .dataframe thead th {\n",
       "        text-align: right;\n",
       "    }\n",
       "</style>\n",
       "<table border=\"1\" class=\"dataframe\">\n",
       "  <thead>\n",
       "    <tr style=\"text-align: right;\">\n",
       "      <th></th>\n",
       "      <th>Unnamed: 0</th>\n",
       "      <th>data</th>\n",
       "      <th>para</th>\n",
       "    </tr>\n",
       "  </thead>\n",
       "  <tbody>\n",
       "    <tr>\n",
       "      <th>324</th>\n",
       "      <td>324</td>\n",
       "      <td>4.265624</td>\n",
       "      <td>-8.283114e-12</td>\n",
       "    </tr>\n",
       "    <tr>\n",
       "      <th>7763</th>\n",
       "      <td>7763</td>\n",
       "      <td>4.265821</td>\n",
       "      <td>-8.278843e-12</td>\n",
       "    </tr>\n",
       "    <tr>\n",
       "      <th>2153</th>\n",
       "      <td>2153</td>\n",
       "      <td>4.266086</td>\n",
       "      <td>-8.269104e-12</td>\n",
       "    </tr>\n",
       "    <tr>\n",
       "      <th>1148</th>\n",
       "      <td>1148</td>\n",
       "      <td>4.264565</td>\n",
       "      <td>-8.266170e-12</td>\n",
       "    </tr>\n",
       "    <tr>\n",
       "      <th>6781</th>\n",
       "      <td>6781</td>\n",
       "      <td>4.264327</td>\n",
       "      <td>-8.253822e-12</td>\n",
       "    </tr>\n",
       "    <tr>\n",
       "      <th>...</th>\n",
       "      <td>...</td>\n",
       "      <td>...</td>\n",
       "      <td>...</td>\n",
       "    </tr>\n",
       "    <tr>\n",
       "      <th>6555</th>\n",
       "      <td>6555</td>\n",
       "      <td>4.688447</td>\n",
       "      <td>1.098229e-02</td>\n",
       "    </tr>\n",
       "    <tr>\n",
       "      <th>2652</th>\n",
       "      <td>2652</td>\n",
       "      <td>4.692392</td>\n",
       "      <td>1.098726e-02</td>\n",
       "    </tr>\n",
       "    <tr>\n",
       "      <th>4927</th>\n",
       "      <td>4927</td>\n",
       "      <td>4.691943</td>\n",
       "      <td>1.098852e-02</td>\n",
       "    </tr>\n",
       "    <tr>\n",
       "      <th>6579</th>\n",
       "      <td>6579</td>\n",
       "      <td>4.690387</td>\n",
       "      <td>1.098927e-02</td>\n",
       "    </tr>\n",
       "    <tr>\n",
       "      <th>7552</th>\n",
       "      <td>7552</td>\n",
       "      <td>4.691109</td>\n",
       "      <td>1.098962e-02</td>\n",
       "    </tr>\n",
       "  </tbody>\n",
       "</table>\n",
       "<p>8000 rows × 3 columns</p>\n",
       "</div>"
      ],
      "text/plain": [
       "      Unnamed: 0      data          para\n",
       "324          324  4.265624 -8.283114e-12\n",
       "7763        7763  4.265821 -8.278843e-12\n",
       "2153        2153  4.266086 -8.269104e-12\n",
       "1148        1148  4.264565 -8.266170e-12\n",
       "6781        6781  4.264327 -8.253822e-12\n",
       "...          ...       ...           ...\n",
       "6555        6555  4.688447  1.098229e-02\n",
       "2652        2652  4.692392  1.098726e-02\n",
       "4927        4927  4.691943  1.098852e-02\n",
       "6579        6579  4.690387  1.098927e-02\n",
       "7552        7552  4.691109  1.098962e-02\n",
       "\n",
       "[8000 rows x 3 columns]"
      ]
     },
     "execution_count": 7,
     "metadata": {},
     "output_type": "execute_result"
    }
   ],
   "source": [
    "import pandas as pd\n",
    "import numpy as np\n",
    "import matplotlib.pyplot as plt\n",
    "\n",
    "df=pd.read_csv(r'data_open.csv')\n",
    "\n",
    "first_half = df['data'][:4000].reset_index(drop=True)\n",
    "second_half = df['data'][4000:].reset_index(drop=True)\n",
    "data=df['data']\n",
    "\n",
    "#intialisation\n",
    "mu1=first_half.mean()\n",
    "mu2=second_half.mean()\n",
    "sigma1=np.sqrt(first_half.var())\n",
    "sigma2=np.sqrt(second_half.var())\n",
    "prior1=np.full(8000,0.5)\n",
    "prior2=np.full(8000,0.5)\n",
    "resp1=np.full(8000,0.5) #posteriors\n",
    "resp2=np.full(8000,0.5)\n",
    "curr_log_likelihood=np.sum(np.log(prior1))+np.sum(np.log(prior2))\n",
    "\n",
    "def pdf(x,mu,sigma):\n",
    "    return 1/(sigma * np.sqrt(2 * np.pi)) * np.exp(-(x - mu)**2 / (2 * sigma**2))\n",
    "\n",
    "#convergence conditions\n",
    "tolerance=1e-6\n",
    "prev_log_likelihood=-np.inf\n",
    "\n",
    "for j in range(100):\n",
    "    prev_log_likelihood=curr_log_likelihood\n",
    "    for i in range(0,8000):\n",
    "        resp1[i]=pdf(data[i],mu1,sigma1)*prior1[i]/(prior1[i]+prior2[i])\n",
    "        resp2[i]=pdf(data[i],mu2,sigma2)*prior2[i]/(prior1[i]+prior2[i])\n",
    "    mu1=np.average(data,weights=resp1)\n",
    "    mu2=np.average(data,weights=resp2)\n",
    "    sigma1=np.sqrt(np.average((data-mu1)**2,weights=resp1))\n",
    "    sigma2=np.sqrt(np.average((data-mu2)**2,weights=resp2))\n",
    "    prior1=np.full(8000,np.average(resp1))\n",
    "    prior2=np.full(8000,np.average(resp2))\n",
    "\n",
    "difference_array=resp1-resp2\n",
    "print(resp1)\n",
    "print(resp2)\n",
    "print(difference_array)\n",
    "df['para']=difference_array\n",
    "sorted_df=df.sort_values(by='para')\n",
    "N1=sorted_df['data'][:4000].reset_index(drop=True)\n",
    "N2=sorted_df['data'][4000:].reset_index(drop=True)\n",
    "sorted_df.head(8000)"
   ]
  },
  {
   "cell_type": "code",
   "execution_count": null,
   "id": "c187563e-0a1e-48f8-8d91-fa9838285c5a",
   "metadata": {},
   "outputs": [],
   "source": []
  }
 ],
 "metadata": {
  "kernelspec": {
   "display_name": "Python 3 (ipykernel)",
   "language": "python",
   "name": "python3"
  },
  "language_info": {
   "codemirror_mode": {
    "name": "ipython",
    "version": 3
   },
   "file_extension": ".py",
   "mimetype": "text/x-python",
   "name": "python",
   "nbconvert_exporter": "python",
   "pygments_lexer": "ipython3",
   "version": "3.12.0"
  }
 },
 "nbformat": 4,
 "nbformat_minor": 5
}
