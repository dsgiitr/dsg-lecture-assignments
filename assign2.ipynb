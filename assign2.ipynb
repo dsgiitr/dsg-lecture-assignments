{
 "cells": [
  {
   "cell_type": "markdown",
   "id": "ef047b81-6907-4758-a295-7a61093769e1",
   "metadata": {},
   "source": [
    "\n",
    "## Q1.1\n",
    "Given :\n",
    "\n",
    "- The received value $  x $ follows a normal distribution: $  x \\sim N(\\theta, 4) $\n",
    "- The prior distribution of $\\theta$ is: $ \\theta \\sim N(5, 9) $\n",
    "- We receive $ x = 6 $\n",
    "\n",
    "We need to find the posterior distribution $ p(\\theta \\mid x) $.\n",
    "\n",
    "The general formula for Bayesian updating with normal distributions is:\n",
    "\n",
    "\n",
    "$\\mu_{\\text{post}} = \\frac{\\sigma_x^2 \\mu_0 + \\sigma_0^2 x}{\\sigma_x^2 + \\sigma_0^2}$\n",
    "\n",
    "$\\sigma_{\\text{post}}^2 = \\frac{\\sigma_x^2 \\sigma_0^2}{\\sigma_x^2 + \\sigma_0^2}$\n",
    "Where:\n",
    " $ \\mu_0 $ and $ \\sigma_0^2 $ are the mean and variance of the prior distribution of $\\theta$\n",
    " $ x $ and $ \\sigma_x^2 $ are the observed value and the variance of the likelihood distribution\n",
    "\n",
    "- Prior mean $ \\mu_0 = 5 $\n",
    "- Prior variance $ \\sigma_0^2 = 9 $\n",
    "- Likelihood variance $ \\sigma_x^2 = 4 $\n",
    "- Observed value $ x = 6 $\n",
    "\n",
    "Posterior Variance\n",
    "\n",
    "$$\n",
    "\\sigma_{\\text{post}}^2 = \\frac{\\sigma_x^2 \\sigma_0^2}{\\sigma_x^2 + \\sigma_0^2} = \\frac{4 \\cdot 9}{4 + 9} = \\frac{36}{13}\n",
    "$$\n",
    "\n",
    "Posterior Mean\n",
    "\n",
    "$$\n",
    "\\mu_{\\text{post}} = \\frac{\\sigma_x^2 \\mu_0 + \\sigma_0^2 x}{\\sigma_x^2 + \\sigma_0^2} = \\frac{4 \\cdot 5 + 9 \\cdot 6}{4 + 9} = \\frac{20 + 54}{13} = \\frac{74}{13}\n",
    "$$\n",
    "\n",
    "Result\n",
    "\n",
    "The posterior distribution $ p(\\theta \\mid x) $ is:\n",
    "\n",
    "$\n",
    "\\theta \\mid x \\sim N\\left(\\frac{74}{13}, \\frac{36}{13}\\right)\n",
    "$\n",
    "\n"
   ]
  },
  {
   "cell_type": "markdown",
   "id": "936c0e40-8365-4275-b4f1-1a7aa717ed9e",
   "metadata": {},
   "source": [
    "## Q 1.4"
   ]
  },
  {
   "cell_type": "code",
   "execution_count": 1,
   "id": "1ac147a2-fc0e-49d6-992b-02ef5951133f",
   "metadata": {},
   "outputs": [
    {
     "name": "stdout",
     "output_type": "stream",
     "text": [
      "Posterior Mean for Randall Vard: 87.93650793650794\n",
      "Posterior Mean for Mary1: 130.15873015873015\n"
     ]
    }
   ],
   "source": [
    "# Given values\n",
    "mu_0 = 100      # prior mean\n",
    "variance_0 = 152  # prior variance\n",
    "variance_1 = 100  # variance of likelihood\n",
    "observed_scores = {\n",
    "    \"Randall Vard\": 80,\n",
    "    \"Mary1\": 150\n",
    "}\n",
    "\n",
    "# Function to calculate the posterior mean\n",
    "def calculate_posterior_mean(x, mu_0, variance_0, variance_1):\n",
    "    return (variance_0 * x + variance_1 * mu_0) / (variance_0 + variance_1)\n",
    "\n",
    "# Calculate posterior means\n",
    "posterior_means = {name: calculate_posterior_mean(score, mu_0, variance_0, variance_1) for name, score in observed_scores.items()}\n",
    "\n",
    "# Print results\n",
    "for name, mean in posterior_means.items():\n",
    "    print(f\"Posterior Mean for {name}: {mean}\")\n"
   ]
  },
  {
   "cell_type": "markdown",
   "id": "0cdc1e1c-9ef2-446d-8bb5-a107d2ac1ddb",
   "metadata": {},
   "source": [
    "## Q3"
   ]
  },
  {
   "cell_type": "markdown",
   "id": "35bfc948-4d21-4cd0-9d6c-058dd1fc060d",
   "metadata": {},
   "source": [
    "\n",
    "\n",
    "In logistic regression for binary classification, the likelihood function for the dataset \\((X, y)\\) given the parameters \\(\\beta\\) is defined as:\n",
    "\n",
    "$$\n",
    "P(y | X, \\beta) = \\prod_{i=1}^n P(y_i | X_i, \\beta)\n",
    "$$\n",
    "\n",
    "where $P(y_i | X_i, \\beta)$ is given by the logistic function:\n",
    "\n",
    "$$\n",
    "P(y_i = 1 | X_i, \\beta) = \\sigma(X_i \\beta) = \\frac{1}{1 + \\exp(-X_i \\beta)}\n",
    "$$\n",
    "\n",
    "and\n",
    "\n",
    "$$\n",
    "P(y_i = 0 | X_i, \\beta) = 1 - \\sigma(X_i \\beta) = \\frac{\\exp(-X_i \\beta)}{1 + \\exp(-X_i \\beta)}\n",
    "$$\n",
    "\n",
    "\n",
    "\n",
    "Assume a Gaussian prior on the parameters $\\beta$:\n",
    "\n",
    "$$\n",
    "P(\\beta) = \\mathcal{N}(\\beta | 0, \\sigma^2 I)\n",
    "$$\n",
    "\n",
    "where $0$ is the mean vector and $\\sigma^2 I$ is the covariance matrix with $I$ being the identity matrix.\n",
    "\n",
    "\n",
    "using Bayes’ theorem, the posterior distribution is proportional to the product of the likelihood and the prior:\n",
    "\n",
    "$$\n",
    "P(\\beta | X, y) \\propto P(y | X, \\beta) P(\\beta)\n",
    "$$\n",
    "\n",
    "Taking the logarithm to get the log-posterior (which simplifies the product to a sum), we have:\n",
    "\n",
    "$$\n",
    "\\log P(\\beta | X, y) = \\log P(y | X, \\beta) + \\log P(\\beta) + \\text{constant}\n",
    "$$\n",
    "\n",
    "The log-likelihood $\\log P(y | X, \\beta)$ is:\n",
    "\n",
    "$$\n",
    "\\log P(y | X, \\beta) = \\sum_{i=1}^n \\left[ y_i \\log \\sigma(X_i \\beta) + (1 - y_i) \\log (1 - \\sigma(X_i \\beta)) \\right]\n",
    "$$\n",
    "\n",
    "The log-prior $\\log P(\\beta)$ is:\n",
    "\n",
    "$$\n",
    "\\log P(\\beta) = -\\frac{1}{2\\sigma^2} \\beta^T \\beta + \\text{constant}\n",
    "$$\n",
    "\n",
    "\n",
    "\n",
    "The MAP estimate maximizes the log-posterior:\n",
    "\n",
    "$$\n",
    "\\hat{\\beta}_{MAP} = \\arg\\max_{\\beta} \\left( \\log P(y | X, \\beta) + \\log P(\\beta) \\right)\n",
    "$$\n",
    "\n",
    "This is equivalent to minimizing the negative log-posterior:\n",
    "\n",
    "$$\n",
    "\\hat{\\beta}_{MAP} = \\arg\\min_{\\beta} \\left( -\\log P(y | X, \\beta) - \\log P(\\beta) \\right)\n",
    "$$\n",
    "\n",
    "\n",
    "\n",
    "\n"
   ]
  },
  {
   "cell_type": "code",
   "execution_count": 5,
   "id": "11e17932-30f3-4c89-95a9-f03aed5a9f14",
   "metadata": {},
   "outputs": [
    {
     "name": "stdout",
     "output_type": "stream",
     "text": [
      "VC Dimension for Axis-Aligned Rectangle in 2D:\n"
     ]
    },
    {
     "data": {
      "image/png": "[encoded data removed]",
      "text/plain": [
       "<Figure size 640x480 with 1 Axes>"
      ]
     },
     "metadata": {},
     "output_type": "display_data"
    },
    {
     "name": "stdout",
     "output_type": "stream",
     "text": [
      "\n",
      "VC Dimension for Linear Function in d Dimensions:\n",
      "Dimension 1: VC Dimension = 2\n",
      "Dimension 2: VC Dimension = 3\n",
      "Dimension 3: VC Dimension = 4\n",
      "Dimension 4: VC Dimension = 5\n",
      "Dimension 5: VC Dimension = 6\n",
      "\n",
      "VC Dimension for Constant Function:\n",
      "VC Dimension = 0\n"
     ]
    }
   ],
   "source": [
    "# Import necessary libraries\n",
    "import numpy as np\n",
    "import matplotlib.pyplot as plt\n",
    "from itertools import combinations\n",
    "\n",
    "\n",
    "def plot_rectangle(points, labels, rect=None, title=\"\"):\n",
    "    fig, ax = plt.subplots()\n",
    "    for i, (point, label) in enumerate(zip(points, labels)):\n",
    "        ax.scatter(*point, color='red' if label else 'blue')\n",
    "        ax.annotate(f'{i}', (point[0] + 0.05, point[1] + 0.05), fontsize=12)\n",
    "    if rect:\n",
    "        (xmin, xmax, ymin, ymax) = rect\n",
    "        ax.add_patch(plt.Rectangle((xmin, ymin), xmax - xmin, ymax - ymin, fill=None, edgecolor='black', linewidth=2))\n",
    "    ax.set_title(title)\n",
    "    plt.xlim(-1, 5)\n",
    "    plt.ylim(-1, 5)\n",
    "    plt.show()\n",
    "\n",
    "# Example points\n",
    "points = np.array([(1, 1), (2, 2), (3, 3), (4, 4)])\n",
    "\n",
    "# All possible labelings for 2 points\n",
    "labelings_2 = list(combinations([0, 1], 2))\n",
    "print(\"VC Dimension for Axis-Aligned Rectangle in 2D:\")\n",
    "\n",
    "# Shattering check for 2 points\n",
    "for labels in labelings_2:\n",
    "    plot_rectangle(points[:2], labels, title=f\"Labels: {labels}\")\n",
    "\n",
    "# All possible labelings for 4 points\n",
    "labelings_4 = list(combinations([0, 1], 4))\n",
    "\n",
    "# Shattering check for 4 points (only showing a subset for clarity)\n",
    "for i, labels in enumerate(labelings_4[:3]):\n",
    "    plot_rectangle(points, labels, rect=(1, 3.5, 1, 3.5), title=f\"Labels: {labels}\")\n",
    "\n",
    "# VC Dimension for Linear Function in d Dimensions\n",
    "def linear_vc_dimension(d):\n",
    "    return d + 1\n",
    "\n",
    "# Example dimensions\n",
    "dimensions = [1, 2, 3, 4, 5]\n",
    "\n",
    "print(\"\\nVC Dimension for Linear Function in d Dimensions:\")\n",
    "for d in dimensions:\n",
    "    print(f\"Dimension {d}: VC Dimension = {linear_vc_dimension(d)}\")\n",
    "\n",
    "# VC Dimension for Constant Function\n",
    "def constant_vc_dimension():\n",
    "    return 0\n",
    "\n",
    "print(\"\\nVC Dimension for Constant Function:\")\n",
    "print(f\"VC Dimension = {constant_vc_dimension()}\")\n",
    "\n"
   ]
  },
  {
   "cell_type": "markdown",
   "id": "6256bef9-276d-429f-8314-d53fb14067b3",
   "metadata": {},
   "source": [
    "## Q2\n"
   ]
  },
  {
   "cell_type": "code",
   "execution_count": 11,
   "id": "2aa9121f-d873-472e-9b1e-6a8338d91ae6",
   "metadata": {},
   "outputs": [
    {
     "name": "stdout",
     "output_type": "stream",
     "text": [
      "True Mean: 5, MLE Mean: 5.0386641116446516\n",
      "True Variance: 4, MLE Variance: 3.831619958926069\n"
     ]
    },
    {
     "data": {
      "image/png": "[encoded data removed]",
      "text/plain": [
       "<Figure size 640x480 with 1 Axes>"
      ]
     },
     "metadata": {},
     "output_type": "display_data"
    }
   ],
   "source": [
    "import numpy as np\n",
    "import matplotlib.pyplot as plt\n",
    "\n",
    "# Generate random dataset\n",
    "np.random.seed(42) \n",
    "mu_true = 5\n",
    "sigma_true = 2\n",
    "data = np.random.normal(mu_true, sigma_true, 1000)\n",
    "mu_mle = np.mean(data)\n",
    "sigma_mle = np.var(data)\n",
    "\n",
    "print(f\"True Mean: {mu_true}, MLE Mean: {mu_mle}\")\n",
    "print(f\"True Variance: {sigma_true**2}, MLE Variance: {sigma_mle}\")\n",
    "\n",
    "# Plot histogram of the data and the estimated Gaussian\n",
    "plt.hist(data, bins=100, density=True)\n",
    "xmin, xmax = plt.xlim()\n",
    "x = np.linspace(xmin, xmax, 100)\n",
    "p = (1 / (np.sqrt(2 * np.pi * sigma_mle))) * np.exp(-0.5 * ((x - mu_mle) ** 2 / sigma_mle))\n",
    "plt.plot(x, p, 'k', linewidth=2, label=f'Estimated Gaussian mu ={mu_mle:.2f}, sigma^2={sigma_mle:.2f})')\n",
    "plt.legend()\n",
    "plt.show()\n"
   ]
  },
  {
   "cell_type": "code",
   "execution_count": null,
   "id": "dd217430-cd7a-464b-971c-da5e0b9dcf51",
   "metadata": {},
   "outputs": [],
   "source": []
  }
 ],
 "metadata": {
  "kernelspec": {
   "display_name": "Python 3 (ipykernel)",
   "language": "python",
   "name": "python3"
  },
  "language_info": {
   "codemirror_mode": {
    "name": "ipython",
    "version": 3
   },
   "file_extension": ".py",
   "mimetype": "text/x-python",
   "name": "python",
   "nbconvert_exporter": "python",
   "pygments_lexer": "ipython3",
   "version": "3.12.3"
  }
 },
 "nbformat": 4,
 "nbformat_minor": 5
}
