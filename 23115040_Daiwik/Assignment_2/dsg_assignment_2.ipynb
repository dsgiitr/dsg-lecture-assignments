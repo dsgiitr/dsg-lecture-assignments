{
 "cells": [
  {
   "cell_type": "code",
   "execution_count": 49,
   "metadata": {},
   "outputs": [
    {
     "name": "stderr",
     "output_type": "stream",
     "text": [
      "/var/folders/6v/f_975vxs321gq5chwxh9ccy40000gn/T/ipykernel_2757/420504124.py:2: DeprecationWarning: `np.math` is a deprecated alias for the standard library `math` module (Deprecated Numpy 1.25). Replace usages of `np.math` with `math`\n",
      "  from numpy import math\n"
     ]
    }
   ],
   "source": [
    "import numpy as np\n",
    "from numpy import math\n",
    "import pandas as pd\n",
    "import scipy.stats as stats\n",
    "from scipy.optimize import minimize\n"
   ]
  },
  {
   "cell_type": "markdown",
   "metadata": {},
   "source": [
    "# Ans 1.1"
   ]
  },
  {
   "cell_type": "markdown",
   "metadata": {},
   "source": [
    "$\\begin{aligned} p(\\theta \\mid x) & \\propto p(x \\mid \\theta) p(\\theta) \\\\ & \\propto \\exp \\left(\\frac{-(x-\\theta)^2}{8}-\\frac{\\theta-5)^2}{18}\\right) \\\\ & \\propto \\exp \\left(\\frac{-9(x-\\theta)^2-4(\\theta-5)^2}{72}\\right) \\\\ & \\propto \\exp \\left(-\\frac{\\left(\\theta-\\frac{74}{13}\\right)^2}{2 \\times \\frac{36}{13}}\\right)\\end{aligned}$\n"
   ]
  },
  {
   "cell_type": "markdown",
   "metadata": {},
   "source": [
    "\n",
    "$\\Rightarrow \\quad \\theta \\left\\lvert\\, x \\sim N\\left(\\frac{74}{13}, \\frac{36}{13}\\right)\\right.$\n"
   ]
  },
  {
   "cell_type": "markdown",
   "metadata": {},
   "source": [
    "# Ans 1.2"
   ]
  },
  {
   "cell_type": "markdown",
   "metadata": {},
   "source": [
    "$$\n",
    "\\begin{aligned}\n",
    "& a=\\frac{1}{9} \\quad , b=\\frac{n}{4} \\quad , x=6   \\\\\n",
    "& \\mu_{\\text {post }}=\\frac{\\frac{5}{9}+\\frac{n}{4} \\times 6}{\\frac{9 n+4}{36}}=\\frac{20+54 n}{9 n+4} \\quad \\begin{array}{l}\n",
    " \\\\\n",
    "\n",
    "\\end{array} \\\\\n",
    "& \\sigma_{\\text {post }}^2=\\frac{36}{4+9 n} \\\\\n",
    "&\n",
    "\\end{aligned}\n",
    "$$\n",
    "$\\Rightarrow \\quad \\theta \\left\\lvert\\, x \\sim N\\left(\\mu_{\\text {post }}, \\sigma_{\\text {post }}^2\\right)\\right.$\n"
   ]
  },
  {
   "cell_type": "markdown",
   "metadata": {},
   "source": [
    "# Ans 1.3"
   ]
  },
  {
   "cell_type": "markdown",
   "metadata": {},
   "source": [
    "$\\begin{aligned} & \\mu_{\\text {post }}=\\frac{20+54n}{9 n+4}, \\text { as } n \\rightarrow \\infty, \\mu_{\\text {post }} \\rightarrow 6 . \\\\ & \\sigma_{\\text {post }}^2=\\frac{36}{9 n+4}, \\text { ass } n \\rightarrow \\infty, \\sigma_{\\text {post }}^2 \\rightarrow 0 .\\end{aligned}$\n",
    "\n",
    "\n",
    " As the mean tends to 6, and the variance tends to 0, the certainty of the parameter's true value increases."
   ]
  },
  {
   "cell_type": "markdown",
   "metadata": {},
   "source": [
    "# Ans 1.4.1\n"
   ]
  },
  {
   "cell_type": "markdown",
   "metadata": {},
   "source": [
    "$\\mu_{\\text {post }}=\\frac{\\left(\\frac{\\mu_{\\text {prior }}}{\\sigma_{\\text {prior }}^2}+\\frac{n x}{\\sigma_x^2}\\right)}{\\left(\\frac{1}{\\sigma_{\\text {prior }}^2}+\\frac{n}{\\sigma_x^2}\\right)}=\\frac{\\frac{100}{225}+\\frac{80}{100}}{\\frac{1}{225}+\\frac{1}{100}}=86.15$"
   ]
  },
  {
   "cell_type": "markdown",
   "metadata": {},
   "source": [
    "# Ans 1.4.2"
   ]
  },
  {
   "cell_type": "markdown",
   "metadata": {},
   "source": [
    "$\\mu_{\\text {post }}=\\frac{\\left(\\frac{\\mu_{\\text {prior }}}{\\sigma_{\\text {prior }}^2}+\\frac{n x}{\\sigma_x^2}\\right)}{\\left(\\frac{1}{\\sigma_{\\text {prior }}^2}+\\frac{n}{\\sigma_x^2}\\right)}=\\frac{\\frac{100}{225}+\\frac{150}{100}}{\\frac{1}{225}+\\frac{1}{100}}=134.62$"
   ]
  },
  {
   "cell_type": "markdown",
   "metadata": {},
   "source": [
    "# Ans 2\n"
   ]
  },
  {
   "cell_type": "markdown",
   "metadata": {},
   "source": [
    "$\\begin{aligned} & L(\\mu, \\sigma)=\\prod_{i=1}^n \\frac{1}{\\sqrt{2 \\pi} \\sigma} \\exp \\left(\\frac{-\\left(x_{i-\\mu}\\right)^2}{2 \\sigma^2}\\right) \\\\ & \\log (L(\\mu, \\sigma))=\\sum_{i=1}^n\\left[\\log \\left(\\frac{1}{\\sqrt{2 \\pi} \\sigma}\\right)-\\frac{1}{2 \\sigma^2}\\left(x_i-\\mu\\right)^2\\right] \\\\ & \\Rightarrow l(\\mu, \\sigma)=-n \\log (\\sqrt{2 \\pi} \\sigma)-\\frac{1}{2 \\sigma^2} \\sum_{i=1}^n\\left(x_i-\\mu\\right)^2 \\\\ & \\Rightarrow l(\\mu, \\sigma)=\\frac{-n}{2} \\log (2 \\pi)-n \\log (\\sigma)-\\frac{1}{2 \\sigma^2} \\sum_{i=1}^n\\left(x_i-\\mu\\right)^2 \\\\ & \\end{aligned}$"
   ]
  },
  {
   "cell_type": "code",
   "execution_count": 50,
   "metadata": {},
   "outputs": [
    {
     "name": "stdout",
     "output_type": "stream",
     "text": [
      "Estimated mu:  18.085489393075605\n",
      "Estimated sigma:  7.1623785679818255\n"
     ]
    }
   ],
   "source": [
    "\n",
    "\n",
    "# Creating an array with random samples from a normal distribution with mean 18 and standard deviation 7.\n",
    "sample = np.random.normal(18, 7, 1000)\n",
    "\n",
    "def log_likelihood(x, mu, sigma):\n",
    "    n = len(x)\n",
    "    return -n * np.log(((2 * np.pi) ** 0.5) * sigma) - np.sum((x - mu) ** 2) / (2 * sigma ** 2)\n",
    "\n",
    "def negative_log_likelihood(params, x):\n",
    "    mu, sigma = params\n",
    "    return -log_likelihood(x, mu, sigma)\n",
    "\n",
    "\n",
    "initial_guess = [18, 7]\n",
    "\n",
    "\n",
    "result = minimize(negative_log_likelihood, initial_guess, args=(sample))\n",
    "\n",
    "\n",
    "print(\"Estimated mu: \",result.x[0])\n",
    "print(\"Estimated sigma: \",result.x[1])\n",
    "\n",
    "\n",
    "\n"
   ]
  },
  {
   "cell_type": "markdown",
   "metadata": {},
   "source": [
    "# Ans 3"
   ]
  },
  {
   "cell_type": "markdown",
   "metadata": {},
   "source": [
    "$\\begin{aligned} & \\theta_{M A P}=\\underset{\\theta}{\\arg \\max }\\left[\\frac{1}{\\sqrt{2 \\pi} \\sigma} \\exp \\left(\\frac{-(\\theta-\\mu)^2}{2 \\sigma^2}\\right) \\prod_{i=1}^n\\left[\\sigma\\left(\\theta^{\\top} x_i\\right)\\right]^{y_i}\\left[1-\\sigma\\left(\\theta^{\\top} x_i\\right)\\right]^{1-y_i}\\right] \\\\ & =\\underset{\\theta}{\\arg \\max }\\left[-\\log (\\sqrt{2 \\pi} \\sigma)-\\frac{(\\theta-\\mu)^2}{2 \\sigma^2}+\\sum_{i=1}^n y_i \\log \\left(\\sigma\\left(\\theta^{\\top} x_i\\right)\\right)+\\left(1-y_i\\right) \\log \\left(1-\\sigma\\left(\\theta^{\\top} x_i\\right)\\right)\\right.\\end{aligned}$"
   ]
  },
  {
   "cell_type": "code",
   "execution_count": 51,
   "metadata": {},
   "outputs": [],
   "source": [
    "def sig(x):\n",
    "    return 1 / (1 + np.exp(-x))\n",
    "\n",
    "def map(theta, x, mu, sigma, y):\n",
    "    z = np.dot(x, theta)  \n",
    "    log_likelihood_1 = np.sum(y*np.log(sig(z)) + (1-y)*np.log(1-sig(z)))\n",
    "    log_prior = -0.5 * np.sum(((theta-mu)/sigma)**2) - (len(theta)/2) * np.log(2 * math.pi * sigma**2)\n",
    "    return log_likelihood_1 + log_prior\n",
    "\n",
    "def neg_map(theta, x, mu, sigma, y):\n",
    "    return -map(theta, x, mu, sigma, y)"
   ]
  },
  {
   "cell_type": "code",
   "execution_count": 59,
   "metadata": {},
   "outputs": [
    {
     "name": "stdout",
     "output_type": "stream",
     "text": [
      "Estimated Parameters:  [-0.6071655   1.32833131  1.68090973]\n"
     ]
    }
   ],
   "source": [
    "\n",
    "\n",
    "import numpy as np\n",
    "import math\n",
    "from scipy.optimize import minimize\n",
    "\n",
    "N = 500\n",
    "X = np.random.randn(N, 3)\n",
    "t_theta = np.array([-0.75, 1.25, 1.8])\n",
    "\n",
    "y1 = (np.random.rand(N) < sig(np.dot(X, t_theta))).astype(int)\n",
    "\n",
    "mu_prior = np.zeros(X.shape[1])\n",
    "sigma_prior = 16\n",
    "starting_guess_1 = np.zeros(X.shape[1])\n",
    "\n",
    "result = minimize(neg_map, starting_guess_1, args=(X, mu_prior, sigma_prior, y1))\n",
    "estimated_theta = result.x\n",
    "\n",
    "print(\"Estimated Parameters: \", estimated_theta)\n"
   ]
  },
  {
   "cell_type": "markdown",
   "metadata": {},
   "source": [
    "# Ans 4"
   ]
  },
  {
   "cell_type": "markdown",
   "metadata": {},
   "source": [
    "#### 4.1 Let H contain all the constant functions, now if n=1, a constant function can classify the data point into either the positive class or the negative class, hence it can shatter it. However, if n>=2, any constant function will be unable to shatter the data points. Hence we can conclude that the VC Dimesnion for a constant function is 1.\n",
    "\n",
    "#### 4.2 Let H contain all the linear functions in d dimensions, any of these functions can shatter  d+1 or less datapoints. This is because, there exists a hyperplane in d dimensions which can divide the space such that the d+1 datapoints can be classified desirably.But, if there are more than d+2 datapoints, any hyperplane in d dimensions will be unable to classify all the datapoints uniquely . The appropriate hyperplane can be acheived by adjusting the corresponding weights related. Therefore, the VC Dimension for these functions is d+1.\n",
    "\n",
    "\n",
    "#### 4.3 Doubt\n",
    "#### 4.4 Doubt"
   ]
  },
  {
   "cell_type": "markdown",
   "metadata": {},
   "source": []
  },
  {
   "cell_type": "markdown",
   "metadata": {},
   "source": [
    "# Ans 5.1"
   ]
  },
  {
   "cell_type": "markdown",
   "metadata": {},
   "source": [
    "$\\begin{aligned} & D_{KL}(P\\| Q)=\\int_{-\\infty}^{\\infty} p(x) \\log \\left(\\frac{p(x)}{q(x)}\\right) d x=\\underbrace{\\int_{-\\infty}^{\\infty} p(x) \\log (p(x)) d x}_{I1}-\\int_{-\\infty}^{\\infty} p(x) \\log (q(x)) d x \\\\ & I_1=\\int_{-\\infty}^{\\infty} \\frac{1}{\\sqrt{2 \\pi} \\sigma_1} \\exp \\left(-\\frac{\\left(x-\\mu_1\\right)^2}{2 \\sigma_1^2}\\right)\\left[\\log \\left(\\frac{1}{\\sqrt{2 \\pi \\sigma_1}}\\right)-\\frac{\\left(x-\\mu_1\\right)^2}{2 \\sigma_1^2}\\right] d x \\\\ &=\\log \\left(\\frac{1}{\\sqrt{2 \\pi \\sigma_1}}\\right)-\\frac{1}{2} \\\\ & I_2=\\int_{-\\infty}^{\\infty} \\frac{1}{\\sqrt{2 \\pi} \\sigma_1} \\exp \\left(-\\frac{\\left(x-\\mu_1\\right)^2}{2 \\sigma_1^2}\\right)\\left[\\log \\left(\\frac{1}{\\sqrt{2 \\pi \\sigma_2}}\\right)-\\left(\\frac{\\left(x-\\mu_2\\right)^2}{2 \\sigma_2^2}\\right)\\right] d x\\end{aligned}$"
   ]
  },
  {
   "cell_type": "markdown",
   "metadata": {},
   "source": [
    "$\\begin{aligned} & \\text { Let } \\frac{x-\\mu_1}{\\sigma_1}=t \\Rightarrow \\frac{d x}{\\sigma_1}=d t \\\\ & I_2=\\int_{-\\infty}^{\\infty} \\frac{1}{\\sqrt{2 \\pi} \\sigma_1} \\exp \\left(-\\frac{t^2}{2}\\right)\\left[\\log \\left(\\frac{1}{\\sqrt{2 \\pi \\sigma_2}}\\right)-\\frac{1}{2}\\left(\\frac{t \\sigma_1+\\mu_1-\\mu_2}{\\sigma_2}\\right)^2\\right] \\sigma_1 d t \\\\ & =\\log \\left(\\frac{1}{\\sqrt{2 \\pi} \\sigma_2}\\right)-\\frac{1}{2}\\left[\\left(\\frac{\\sigma_1}{\\sigma_2}\\right)^2+\\left(\\frac{\\mu_1-\\mu_2}{\\sigma_2}\\right)^2\\right] \\\\ & \\Rightarrow D_{K L}(P \\| Q)=\\log \\left(\\frac{\\sigma_2}{\\sigma_1}\\right)-\\frac{1}{2}\\left[1-\\left(\\frac{\\sigma_1}{\\sigma_2}\\right)^2-\\left(\\frac{\\mu_1-\\mu_2}{\\sigma_2}\\right)^2\\right]\\end{aligned}$"
   ]
  },
  {
   "cell_type": "markdown",
   "metadata": {},
   "source": [
    "# Ans5.2"
   ]
  },
  {
   "cell_type": "code",
   "execution_count": 111,
   "metadata": {},
   "outputs": [
    {
     "data": {
      "text/html": [
       "<div>\n",
       "<style scoped>\n",
       "    .dataframe tbody tr th:only-of-type {\n",
       "        vertical-align: middle;\n",
       "    }\n",
       "\n",
       "    .dataframe tbody tr th {\n",
       "        vertical-align: top;\n",
       "    }\n",
       "\n",
       "    .dataframe thead th {\n",
       "        text-align: right;\n",
       "    }\n",
       "</style>\n",
       "<table border=\"1\" class=\"dataframe\">\n",
       "  <thead>\n",
       "    <tr style=\"text-align: right;\">\n",
       "      <th></th>\n",
       "      <th>x</th>\n",
       "      <th>P(x)</th>\n",
       "      <th>Q(x)</th>\n",
       "    </tr>\n",
       "  </thead>\n",
       "  <tbody>\n",
       "    <tr>\n",
       "      <th>0</th>\n",
       "      <td>NaN</td>\n",
       "      <td>P</td>\n",
       "      <td>Q</td>\n",
       "    </tr>\n",
       "    <tr>\n",
       "      <th>1</th>\n",
       "      <td>0.0</td>\n",
       "      <td>7.88860905221016e-31</td>\n",
       "      <td>1.486720385427983e-07</td>\n",
       "    </tr>\n",
       "    <tr>\n",
       "      <th>2</th>\n",
       "      <td>1.0</td>\n",
       "      <td>7.88860905221004e-29</td>\n",
       "      <td>2.438962174264809e-07</td>\n",
       "    </tr>\n",
       "    <tr>\n",
       "      <th>3</th>\n",
       "      <td>2.0</td>\n",
       "      <td>3.904861480844006e-27</td>\n",
       "      <td>3.9613014109573e-07</td>\n",
       "    </tr>\n",
       "    <tr>\n",
       "      <th>4</th>\n",
       "      <td>3.0</td>\n",
       "      <td>1.275588083742379e-25</td>\n",
       "      <td>6.369828909339788e-07</td>\n",
       "    </tr>\n",
       "    <tr>\n",
       "      <th>...</th>\n",
       "      <td>...</td>\n",
       "      <td>...</td>\n",
       "      <td>...</td>\n",
       "    </tr>\n",
       "    <tr>\n",
       "      <th>96</th>\n",
       "      <td>95.0</td>\n",
       "      <td>5.939138117904558e-23</td>\n",
       "      <td>1.5983750467744769e-06</td>\n",
       "    </tr>\n",
       "    <tr>\n",
       "      <th>97</th>\n",
       "      <td>96.0</td>\n",
       "      <td>3.093301103075289e-24</td>\n",
       "      <td>1.0140858004452227e-06</td>\n",
       "    </tr>\n",
       "    <tr>\n",
       "      <th>98</th>\n",
       "      <td>97.0</td>\n",
       "      <td>1.2755880837423788e-25</td>\n",
       "      <td>6.369828909339788e-07</td>\n",
       "    </tr>\n",
       "    <tr>\n",
       "      <th>99</th>\n",
       "      <td>98.0</td>\n",
       "      <td>3.904861480844006e-27</td>\n",
       "      <td>3.9613014109573e-07</td>\n",
       "    </tr>\n",
       "    <tr>\n",
       "      <th>100</th>\n",
       "      <td>99.0</td>\n",
       "      <td>7.888609052210037e-29</td>\n",
       "      <td>2.438962174264809e-07</td>\n",
       "    </tr>\n",
       "  </tbody>\n",
       "</table>\n",
       "<p>101 rows × 3 columns</p>\n",
       "</div>"
      ],
      "text/plain": [
       "        x                    P(x)                    Q(x)\n",
       "0     NaN                       P                       Q\n",
       "1     0.0    7.88860905221016e-31   1.486720385427983e-07\n",
       "2     1.0    7.88860905221004e-29   2.438962174264809e-07\n",
       "3     2.0   3.904861480844006e-27     3.9613014109573e-07\n",
       "4     3.0   1.275588083742379e-25   6.369828909339788e-07\n",
       "..    ...                     ...                     ...\n",
       "96   95.0   5.939138117904558e-23  1.5983750467744769e-06\n",
       "97   96.0   3.093301103075289e-24  1.0140858004452227e-06\n",
       "98   97.0  1.2755880837423788e-25   6.369828909339788e-07\n",
       "99   98.0   3.904861480844006e-27     3.9613014109573e-07\n",
       "100  99.0   7.888609052210037e-29   2.438962174264809e-07\n",
       "\n",
       "[101 rows x 3 columns]"
      ]
     },
     "execution_count": 111,
     "metadata": {},
     "output_type": "execute_result"
    }
   ],
   "source": [
    "df=pd.read_csv(\"/Users/daiwikvohra/Downloads/data_KL.csv\", names=['x','P(x)','Q(x)'])\n"
   ]
  },
  {
   "cell_type": "code",
   "execution_count": 130,
   "metadata": {},
   "outputs": [],
   "source": [
    "p=df['P(x)'].to_numpy()\n",
    "q=df['Q(x)'].to_numpy()\n",
    "\n",
    "p=p[1:]\n",
    "q=q[1:]\n",
    "\n",
    "p=p.astype(float)\n",
    "q=q.astype(float)\n",
    "\n",
    "kl_1=p*(np.log(p/q))\n",
    "kl_2=q*(np.log(q/p))\n",
    "\n",
    "KLD_1=np.sum(kl_1)\n",
    "KLD_2=np.sum(kl_2)"
   ]
  },
  {
   "cell_type": "code",
   "execution_count": 131,
   "metadata": {},
   "outputs": [
    {
     "data": {
      "text/plain": [
       "0.3181551004141435"
      ]
     },
     "execution_count": 131,
     "metadata": {},
     "output_type": "execute_result"
    }
   ],
   "source": [
    "KLD_1"
   ]
  },
  {
   "cell_type": "code",
   "execution_count": 132,
   "metadata": {},
   "outputs": [
    {
     "data": {
      "text/plain": [
       "0.8319068251266643"
      ]
     },
     "execution_count": 132,
     "metadata": {},
     "output_type": "execute_result"
    }
   ],
   "source": [
    "KLD_2"
   ]
  },
  {
   "cell_type": "markdown",
   "metadata": {},
   "source": [
    "### The two values for KL Divergence are 0.318 and 0.831"
   ]
  },
  {
   "cell_type": "markdown",
   "metadata": {},
   "source": [
    "# Ans 5.3"
   ]
  },
  {
   "cell_type": "markdown",
   "metadata": {},
   "source": [
    "### KL Divergence Intuition: The fundamental intuition of KL divergence is that it reflects the disparity between two distributions, essentially measuring statistical divergence. Put simply, it quantifies the information loss incurred when approximating one distribution with another."
   ]
  },
  {
   "cell_type": "markdown",
   "metadata": {},
   "source": [
    "# Ans 6.1"
   ]
  },
  {
   "cell_type": "code",
   "execution_count": 6,
   "metadata": {},
   "outputs": [],
   "source": [
    "\n",
    "data=pd.read_csv(\"/Users/daiwikvohra/Downloads/data_open.csv\",names=['x','y'])"
   ]
  },
  {
   "cell_type": "code",
   "execution_count": 7,
   "metadata": {},
   "outputs": [
    {
     "data": {
      "text/html": [
       "<div>\n",
       "<style scoped>\n",
       "    .dataframe tbody tr th:only-of-type {\n",
       "        vertical-align: middle;\n",
       "    }\n",
       "\n",
       "    .dataframe tbody tr th {\n",
       "        vertical-align: top;\n",
       "    }\n",
       "\n",
       "    .dataframe thead th {\n",
       "        text-align: right;\n",
       "    }\n",
       "</style>\n",
       "<table border=\"1\" class=\"dataframe\">\n",
       "  <thead>\n",
       "    <tr style=\"text-align: right;\">\n",
       "      <th></th>\n",
       "      <th>x</th>\n",
       "      <th>y</th>\n",
       "    </tr>\n",
       "  </thead>\n",
       "  <tbody>\n",
       "    <tr>\n",
       "      <th>0</th>\n",
       "      <td>NaN</td>\n",
       "      <td>data</td>\n",
       "    </tr>\n",
       "    <tr>\n",
       "      <th>1</th>\n",
       "      <td>0.0</td>\n",
       "      <td>5.242409064737171</td>\n",
       "    </tr>\n",
       "    <tr>\n",
       "      <th>2</th>\n",
       "      <td>1.0</td>\n",
       "      <td>1.5677360608794515</td>\n",
       "    </tr>\n",
       "    <tr>\n",
       "      <th>3</th>\n",
       "      <td>2.0</td>\n",
       "      <td>-5.809161571554837</td>\n",
       "    </tr>\n",
       "    <tr>\n",
       "      <th>4</th>\n",
       "      <td>3.0</td>\n",
       "      <td>-3.2231270533908565</td>\n",
       "    </tr>\n",
       "    <tr>\n",
       "      <th>...</th>\n",
       "      <td>...</td>\n",
       "      <td>...</td>\n",
       "    </tr>\n",
       "    <tr>\n",
       "      <th>7996</th>\n",
       "      <td>7995.0</td>\n",
       "      <td>10.475467099026911</td>\n",
       "    </tr>\n",
       "    <tr>\n",
       "      <th>7997</th>\n",
       "      <td>7996.0</td>\n",
       "      <td>5.479538126822994</td>\n",
       "    </tr>\n",
       "    <tr>\n",
       "      <th>7998</th>\n",
       "      <td>7997.0</td>\n",
       "      <td>4.3477536134189165</td>\n",
       "    </tr>\n",
       "    <tr>\n",
       "      <th>7999</th>\n",
       "      <td>7998.0</td>\n",
       "      <td>2.279800010468329</td>\n",
       "    </tr>\n",
       "    <tr>\n",
       "      <th>8000</th>\n",
       "      <td>7999.0</td>\n",
       "      <td>2.4603698288491076</td>\n",
       "    </tr>\n",
       "  </tbody>\n",
       "</table>\n",
       "<p>8001 rows × 2 columns</p>\n",
       "</div>"
      ],
      "text/plain": [
       "           x                    y\n",
       "0        NaN                 data\n",
       "1        0.0    5.242409064737171\n",
       "2        1.0   1.5677360608794515\n",
       "3        2.0   -5.809161571554837\n",
       "4        3.0  -3.2231270533908565\n",
       "...      ...                  ...\n",
       "7996  7995.0   10.475467099026911\n",
       "7997  7996.0    5.479538126822994\n",
       "7998  7997.0   4.3477536134189165\n",
       "7999  7998.0    2.279800010468329\n",
       "8000  7999.0   2.4603698288491076\n",
       "\n",
       "[8001 rows x 2 columns]"
      ]
     },
     "execution_count": 7,
     "metadata": {},
     "output_type": "execute_result"
    }
   ],
   "source": [
    "data"
   ]
  },
  {
   "cell_type": "code",
   "execution_count": 8,
   "metadata": {},
   "outputs": [],
   "source": [
    "x_val=np.array(data['x'])\n",
    "x_val=x_val[1:]\n",
    "y_val=np.array(data['y'])\n",
    "y_val=y_val[1:]\n",
    "\n",
    "x_val=x_val.astype(float)\n",
    "y_val=y_val.astype(float)\n",
    "\n"
   ]
  },
  {
   "cell_type": "code",
   "execution_count": 9,
   "metadata": {},
   "outputs": [
    {
     "data": {
      "text/plain": [
       "[<matplotlib.lines.Line2D at 0x300f3c260>]"
      ]
     },
     "execution_count": 9,
     "metadata": {},
     "output_type": "execute_result"
    },
    {
     "data": {
      "image/png": "[encoded data removed]",
      "text/plain": [
       "<Figure size 640x480 with 1 Axes>"
      ]
     },
     "metadata": {},
     "output_type": "display_data"
    }
   ],
   "source": [
    "import matplotlib.pyplot as plt\n",
    "plt.plot(x_val,y_val)"
   ]
  },
  {
   "cell_type": "code",
   "execution_count": 10,
   "metadata": {},
   "outputs": [
    {
     "data": {
      "image/png": "[encoded data removed]",
      "text/plain": [
       "<Figure size 640x480 with 1 Axes>"
      ]
     },
     "metadata": {},
     "output_type": "display_data"
    }
   ],
   "source": [
    "#Plotting the graph for the mixed dataset\n",
    "counts_1,bins_1,_=plt.hist(y_val,bins=80,color='blue')"
   ]
  },
  {
   "cell_type": "markdown",
   "metadata": {},
   "source": [
    "### Considering the graph above, it's evident that the point where the graph reaches the maximum and then proceeds to monotonically decrease corresponds to the mean of the distribution  with the higher mean between the two Gaussian distributions.\n",
    "\n",
    "### We can find the sum of both the means by calculating the mean of the given datapoints and multiplying them by 2. (The sum comes out to be 5.02)"
   ]
  },
  {
   "cell_type": "code",
   "execution_count": 11,
   "metadata": {},
   "outputs": [
    {
     "name": "stdout",
     "output_type": "stream",
     "text": [
      "mu_1 = 0.2621413648219608 mu_2 = 4.758230395638824\n"
     ]
    }
   ],
   "source": [
    "\n",
    "#Finding the greater mean\n",
    "bin_index=np.argmax(counts_1)\n",
    "mu_2= (bins_1[bin_index]+bins_1[bin_index+1])/2\n",
    "\n",
    "#Finding the sum of both the means\n",
    "sum_means=np.sum(2*y_val)/8000\n",
    "\n",
    "\n",
    "mu_1=sum_means-mu_2\n",
    "mu_1=min(mu_1,mu_2)\n",
    "\n",
    "print('mu_1 =',mu_1,'mu_2 =',mu_2)"
   ]
  },
  {
   "cell_type": "markdown",
   "metadata": {},
   "source": [
    "### Therefore, we have obtained the means of both the gaussian distributions:-\n",
    "### mu_1=0.26 and mu_2=4.76"
   ]
  },
  {
   "cell_type": "markdown",
   "metadata": {},
   "source": [
    "### For finding the standard deviations we can use the concept of confidence intervals. But we have to make a few assumptions:-\n",
    "-->All the datapoints lying at right hand tail of the graph belong to the gaussian distribution with the higher mean.\n",
    "\n",
    "--> All the datapoints lying at left hand tail of the graph belong to the gaussian distribution with the lower mean."
   ]
  },
  {
   "cell_type": "code",
   "execution_count": 12,
   "metadata": {},
   "outputs": [
    {
     "name": "stdout",
     "output_type": "stream",
     "text": [
      "sd_1 = 4.1316805843073245 sd_2 = 2.2532183010343503\n"
     ]
    }
   ],
   "source": [
    "#count_1 represents the number of datapoints lying to the left of -10.\n",
    "count_1=0\n",
    "for i in y_val:\n",
    "    if i<=-10:\n",
    "        count_1+=1\n",
    "#Here, we use the confidence interval formula and calculate the z score using the value we obtain from count_1.\n",
    "sd_1=(10+mu_1)/(stats.norm.ppf(1-count_1/4000))\n",
    "\n",
    "#count_2 represents the number of datapoints lying to the right of 10.\n",
    "count_2=0\n",
    "for i in y_val:\n",
    "    if i>=10:\n",
    "        count_2+=1\n",
    "\n",
    "#Here, we use the confidence interval formula and calculate the z score using the value we obtain from count_2.\n",
    "sd_2=(10-mu_2)/(stats.norm.ppf(1-count_2/4000))\n",
    "\n",
    "\n",
    "print('sd_1 =',sd_1,'sd_2 =',sd_2)"
   ]
  },
  {
   "cell_type": "markdown",
   "metadata": {},
   "source": [
    "### Now, we  also have the standard deviations of both the distributions.\n",
    "\n",
    "### sd_1=4.13 and sd_2=2.25"
   ]
  },
  {
   "cell_type": "markdown",
   "metadata": {},
   "source": [
    "\n",
    "$D_1 \\sim N(0.26,4.13^2)$\n",
    "\n",
    "$D_2 \\sim N(4.76,2.25^2)$\n"
   ]
  },
  {
   "cell_type": "code",
   "execution_count": 18,
   "metadata": {},
   "outputs": [
    {
     "data": {
      "text/plain": [
       "(array([  1.,   1.,   1.,   2.,   1.,   3.,   3.,   4.,   1.,   7.,   6.,\n",
       "          2.,  16.,   7.,   9.,  29.,  14.,  22.,  20.,  32.,  38.,  35.,\n",
       "         31.,  49.,  50.,  55.,  53.,  80.,  97.,  82.,  99., 106., 108.,\n",
       "        109., 124., 126., 142., 131., 127., 147., 138., 141., 169., 174.,\n",
       "        184., 203., 220., 205., 221., 265., 280., 301., 323., 331., 364.,\n",
       "        315., 345., 313., 265., 227., 228., 185., 143., 129.,  98.,  90.,\n",
       "         50.,  28.,  35.,  20.,  13.,   7.,   7.,   7.,   1.,   0.,   3.,\n",
       "          0.,   0.,   2.]),\n",
       " array([-13.58141627, -13.24490899, -12.90840171, -12.57189443,\n",
       "        -12.23538715, -11.89887988, -11.5623726 , -11.22586532,\n",
       "        -10.88935804, -10.55285076, -10.21634348,  -9.87983621,\n",
       "         -9.54332893,  -9.20682165,  -8.87031437,  -8.53380709,\n",
       "         -8.19729982,  -7.86079254,  -7.52428526,  -7.18777798,\n",
       "         -6.8512707 ,  -6.51476342,  -6.17825615,  -5.84174887,\n",
       "         -5.50524159,  -5.16873431,  -4.83222703,  -4.49571976,\n",
       "         -4.15921248,  -3.8227052 ,  -3.48619792,  -3.14969064,\n",
       "         -2.81318336,  -2.47667609,  -2.14016881,  -1.80366153,\n",
       "         -1.46715425,  -1.13064697,  -0.79413969,  -0.45763242,\n",
       "         -0.12112514,   0.21538214,   0.55188942,   0.8883967 ,\n",
       "          1.22490397,   1.56141125,   1.89791853,   2.23442581,\n",
       "          2.57093309,   2.90744037,   3.24394764,   3.58045492,\n",
       "          3.9169622 ,   4.25346948,   4.58997676,   4.92648403,\n",
       "          5.26299131,   5.59949859,   5.93600587,   6.27251315,\n",
       "          6.60902043,   6.9455277 ,   7.28203498,   7.61854226,\n",
       "          7.95504954,   8.29155682,   8.6280641 ,   8.96457137,\n",
       "          9.30107865,   9.63758593,   9.97409321,  10.31060049,\n",
       "         10.64710776,  10.98361504,  11.32012232,  11.6566296 ,\n",
       "         11.99313688,  12.32964416,  12.66615143,  13.00265871,\n",
       "         13.33916599]),\n",
       " <BarContainer object of 80 artists>)"
      ]
     },
     "execution_count": 18,
     "metadata": {},
     "output_type": "execute_result"
    },
    {
     "data": {
      "image/png": "[encoded data removed]",
      "text/plain": [
       "<Figure size 640x480 with 1 Axes>"
      ]
     },
     "metadata": {},
     "output_type": "display_data"
    }
   ],
   "source": [
    "sample_1=np.random.normal(mu_1,sd_1,4000)\n",
    "sample_2=np.random.normal(mu_2,sd_2,4000)\n",
    "\n",
    "sample_3=np.append(sample_1,sample_2)\n",
    "\n",
    "\n",
    "plt.hist(sample_3,bins=80,color='blue')\n",
    "plt.hist(y_val,bins=80,color='orange')\n",
    "\n",
    "\n",
    "\n",
    "\n",
    "\n"
   ]
  },
  {
   "cell_type": "markdown",
   "metadata": {},
   "source": [
    "### The above graph compares the data given in the question with the data generated with the algorithm proposed.\n",
    "### The given data is in orange and the generated data is in blue."
   ]
  },
  {
   "cell_type": "markdown",
   "metadata": {},
   "source": []
  },
  {
   "cell_type": "markdown",
   "metadata": {},
   "source": []
  }
 ],
 "metadata": {
  "kernelspec": {
   "display_name": "Python 3",
   "language": "python",
   "name": "python3"
  },
  "language_info": {
   "codemirror_mode": {
    "name": "ipython",
    "version": 3
   },
   "file_extension": ".py",
   "mimetype": "text/x-python",
   "name": "python",
   "nbconvert_exporter": "python",
   "pygments_lexer": "ipython3",
   "version": "3.12.1"
  }
 },
 "nbformat": 4,
 "nbformat_minor": 2
}
